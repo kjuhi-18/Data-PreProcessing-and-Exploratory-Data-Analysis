{
  "cells": [
    {
      "cell_type": "markdown",
      "metadata": {
        "id": "t0ge3fduUXIk"
      },
      "source": [
        "Initializing the string"
      ]
    },
    {
      "cell_type": "code",
      "execution_count": 1,
      "metadata": {
        "id": "AC0IvxPzTFMC"
      },
      "outputs": [],
      "source": [
        "my_string=\"Let's learn python\"\n",
        "another_string=\"It may seem  difficult first ,but you can do it\"\n",
        "long_string=''' yeah now the multiline comment works\n",
        "such as this'''"
      ]
    },
    {
      "cell_type": "markdown",
      "metadata": {
        "id": "5XILOyqtUSra"
      },
      "source": [
        "String concatination"
      ]
    },
    {
      "cell_type": "code",
      "execution_count": 2,
      "metadata": {
        "id": "LdJRPivUT8hF"
      },
      "outputs": [],
      "source": [
        "s1=\"I'm reading a book\"\n",
        "s2=\" a new great book\""
      ]
    },
    {
      "cell_type": "code",
      "execution_count": 3,
      "metadata": {
        "id": "LZd9kws5UN84"
      },
      "outputs": [],
      "source": [
        "s3=s1+s2"
      ]
    },
    {
      "cell_type": "code",
      "execution_count": 4,
      "metadata": {
        "colab": {
          "base_uri": "https://localhost:8080/",
          "height": 35
        },
        "id": "cn4u0BJ5UrSp",
        "outputId": "a073ae2f-eb3b-4861-cede-93380b739e41"
      },
      "outputs": [
        {
          "data": {
            "text/plain": [
              "\"I'm reading a book a new great book\""
            ]
          },
          "execution_count": 4,
          "metadata": {},
          "output_type": "execute_result"
        }
      ],
      "source": [
        "s3"
      ]
    },
    {
      "cell_type": "markdown",
      "metadata": {
        "id": "G-nEcME-U8qi"
      },
      "source": [
        "String replication"
      ]
    },
    {
      "cell_type": "code",
      "execution_count": 5,
      "metadata": {
        "colab": {
          "base_uri": "https://localhost:8080/",
          "height": 35
        },
        "id": "RDBHFMsPUsA1",
        "outputId": "c29bd879-1295-4c4a-8710-1d558d5526d1"
      },
      "outputs": [
        {
          "data": {
            "text/plain": [
              "\"I'm reading a bookI'm reading a bookI'm reading a bookI'm reading a bookI'm reading a book\""
            ]
          },
          "execution_count": 5,
          "metadata": {},
          "output_type": "execute_result"
        }
      ],
      "source": [
        "s1*5"
      ]
    },
    {
      "cell_type": "code",
      "execution_count": 6,
      "metadata": {
        "colab": {
          "base_uri": "https://localhost:8080/"
        },
        "id": "-klNmYCuU6KU",
        "outputId": "4fe355ce-ce1e-4c0b-cd90-be1f896147cc"
      },
      "outputs": [
        {
          "name": "stdout",
          "output_type": "stream",
          "text": [
            "alicealicealicealicealice\n"
          ]
        }
      ],
      "source": [
        "print(\"alice\"*5)"
      ]
    },
    {
      "cell_type": "markdown",
      "metadata": {
        "id": "pvQPCgqmVtxv"
      },
      "source": [
        "Mathematical operators"
      ]
    },
    {
      "cell_type": "code",
      "execution_count": 7,
      "metadata": {
        "colab": {
          "base_uri": "https://localhost:8080/"
        },
        "id": "JCC5UuxKVD97",
        "outputId": "598fde52-16dc-457f-fcff-ee2be256d9d3"
      },
      "outputs": [
        {
          "data": {
            "text/plain": [
              "8"
            ]
          },
          "execution_count": 7,
          "metadata": {},
          "output_type": "execute_result"
        }
      ],
      "source": [
        "2**3#power\n"
      ]
    },
    {
      "cell_type": "code",
      "execution_count": 8,
      "metadata": {
        "colab": {
          "base_uri": "https://localhost:8080/"
        },
        "id": "ym6RLIwwVn3h",
        "outputId": "8c5e292e-2976-4866-dfb5-e9cdb057b5c0"
      },
      "outputs": [
        {
          "data": {
            "text/plain": [
              "6"
            ]
          },
          "execution_count": 8,
          "metadata": {},
          "output_type": "execute_result"
        }
      ],
      "source": [
        "22%8#modulus"
      ]
    },
    {
      "cell_type": "code",
      "execution_count": 9,
      "metadata": {
        "colab": {
          "base_uri": "https://localhost:8080/"
        },
        "id": "1ZgmofHaVp8F",
        "outputId": "f539b78c-0d40-4ead-b144-10a6f347191f"
      },
      "outputs": [
        {
          "data": {
            "text/plain": [
              "2"
            ]
          },
          "execution_count": 9,
          "metadata": {},
          "output_type": "execute_result"
        }
      ],
      "source": [
        "22//8#integer division\n",
        "\n"
      ]
    },
    {
      "cell_type": "markdown",
      "metadata": {
        "id": "bR8kM8grXes7"
      },
      "source": [
        "Input"
      ]
    },
    {
      "cell_type": "code",
      "execution_count": 10,
      "metadata": {
        "colab": {
          "base_uri": "https://localhost:8080/"
        },
        "id": "wg1ZJaL_VrU9",
        "outputId": "89cce7e9-d689-44b2-cb51-dcfac45a7640"
      },
      "outputs": [
        {
          "ename": "ValueError",
          "evalue": "invalid literal for int() with base 10: 'kunal'",
          "output_type": "error",
          "traceback": [
            "\u001b[31m---------------------------------------------------------------------------\u001b[39m",
            "\u001b[31mValueError\u001b[39m                                Traceback (most recent call last)",
            "\u001b[36mCell\u001b[39m\u001b[36m \u001b[39m\u001b[32mIn[10]\u001b[39m\u001b[32m, line 2\u001b[39m\n\u001b[32m      1\u001b[39m name=\u001b[38;5;28minput\u001b[39m(\u001b[33m\"\u001b[39m\u001b[33menter your name\u001b[39m\u001b[33m\"\u001b[39m)\n\u001b[32m----> \u001b[39m\u001b[32m2\u001b[39m age=\u001b[38;5;28;43mint\u001b[39;49m\u001b[43m(\u001b[49m\u001b[38;5;28;43minput\u001b[39;49m\u001b[43m(\u001b[49m\u001b[33;43m\"\u001b[39;49m\u001b[33;43menter your age\u001b[39;49m\u001b[33;43m\"\u001b[39;49m\u001b[43m)\u001b[49m\u001b[43m)\u001b[49m\n\u001b[32m      3\u001b[39m \u001b[38;5;28mprint\u001b[39m(\u001b[33m\"\u001b[39m\u001b[33mNice to meeet you!\u001b[39m\u001b[33m\"\u001b[39m+name)\n\u001b[32m      4\u001b[39m \u001b[38;5;28mprint\u001b[39m(\u001b[33m\"\u001b[39m\u001b[33myou are \u001b[39m\u001b[33m\"\u001b[39m+\u001b[38;5;28mstr\u001b[39m(age)+\u001b[33m\"\u001b[39m\u001b[33m years old\u001b[39m\u001b[33m\"\u001b[39m)\n",
            "\u001b[31mValueError\u001b[39m: invalid literal for int() with base 10: 'kunal'"
          ]
        }
      ],
      "source": [
        "name=input(\"enter your name\")\n",
        "age=int(input(\"enter your age\"))\n",
        "print(\"Nice to meeet you!\"+name)\n",
        "print(\"you are \"+str(age)+\" years old\")"
      ]
    },
    {
      "cell_type": "markdown",
      "metadata": {
        "id": "ECMFM6w3Xh4o"
      },
      "source": [
        "Len"
      ]
    },
    {
      "cell_type": "code",
      "execution_count": null,
      "metadata": {
        "colab": {
          "base_uri": "https://localhost:8080/"
        },
        "id": "87z5x95WWgti",
        "outputId": "99cfd4e1-b956-41f1-a826-a1daad04c848"
      },
      "outputs": [
        {
          "name": "stdout",
          "output_type": "stream",
          "text": [
            "The length of string 1 is 18\n"
          ]
        }
      ],
      "source": [
        "print(\"The length of string 1 is\",len(s1))"
      ]
    },
    {
      "cell_type": "markdown",
      "metadata": {
        "id": "fGEzZXGEXxV8"
      },
      "source": [
        "Filter"
      ]
    },
    {
      "cell_type": "code",
      "execution_count": null,
      "metadata": {
        "colab": {
          "base_uri": "https://localhost:8080/"
        },
        "id": "ogQe1229XpVz",
        "outputId": "5c93665d-372a-4c4a-8005-2e76bbbc6f6f"
      },
      "outputs": [
        {
          "name": "stdout",
          "output_type": "stream",
          "text": [
            "18\n",
            "24\n",
            "32\n"
          ]
        }
      ],
      "source": [
        "ages=[5,12,17,18,24,32]\n",
        "def myFunc(x):\n",
        "  if x>=18:\n",
        "    return True\n",
        "  else:\n",
        "    return False\n",
        "adults=filter(myFunc,ages)\n",
        "for x in adults:\n",
        "  print(x)\n"
      ]
    },
    {
      "cell_type": "markdown",
      "metadata": {
        "id": "55nTky4ZZMGx"
      },
      "source": [
        "Creating our own fuction\n"
      ]
    },
    {
      "cell_type": "code",
      "execution_count": null,
      "metadata": {
        "id": "nj7gMnqJYeFJ"
      },
      "outputs": [],
      "source": [
        "def product_info(product_name,price):\n",
        "  print(\"Product Name:\",product_name)\n",
        "  print('Price:',price)"
      ]
    },
    {
      "cell_type": "code",
      "execution_count": null,
      "metadata": {
        "colab": {
          "base_uri": "https://localhost:8080/"
        },
        "id": "yltcOfVkZBvA",
        "outputId": "d160a73e-fcf8-4389-ba7e-090f095b8563"
      },
      "outputs": [
        {
          "name": "stdout",
          "output_type": "stream",
          "text": [
            "Product Name: White T shirt\n",
            "Price: 56\n"
          ]
        }
      ],
      "source": [
        "product_info(\"White T shirt\",56)"
      ]
    },
    {
      "cell_type": "markdown",
      "metadata": {
        "id": "wbAmz16QZsE0"
      },
      "source": [
        "List"
      ]
    },
    {
      "cell_type": "code",
      "execution_count": null,
      "metadata": {
        "id": "CTu7dHJvZIDE"
      },
      "outputs": [],
      "source": [
        "my_list=[1,2,3,4]\n",
        "my_list1=[1,\"a\",3,\"5\"]\n",
        "my_list2=[\"A\",\"b\",\"C\",\"D\"]\n",
        "\n"
      ]
    },
    {
      "cell_type": "code",
      "execution_count": null,
      "metadata": {
        "colab": {
          "base_uri": "https://localhost:8080/"
        },
        "id": "Wwo1tw29Z6ID",
        "outputId": "411d11d7-862f-4d30-bea4-d5bd1219fa86"
      },
      "outputs": [
        {
          "data": {
            "text/plain": [
              "[1, 2, 3, 4]"
            ]
          },
          "execution_count": 35,
          "metadata": {},
          "output_type": "execute_result"
        }
      ],
      "source": [
        "my_list"
      ]
    },
    {
      "cell_type": "code",
      "execution_count": null,
      "metadata": {
        "colab": {
          "base_uri": "https://localhost:8080/"
        },
        "id": "6O-5Eu1WZ99-",
        "outputId": "6e70d5cf-bd0e-4531-9214-6492ef9d76e1"
      },
      "outputs": [
        {
          "data": {
            "text/plain": [
              "[1, 'a', 3, '5']"
            ]
          },
          "execution_count": 36,
          "metadata": {},
          "output_type": "execute_result"
        }
      ],
      "source": [
        "my_list1"
      ]
    },
    {
      "cell_type": "code",
      "execution_count": null,
      "metadata": {
        "colab": {
          "base_uri": "https://localhost:8080/"
        },
        "id": "9J0fyGA-aBaJ",
        "outputId": "456b7832-bbb5-4581-cbca-d841e13ee6bb"
      },
      "outputs": [
        {
          "data": {
            "text/plain": [
              "['A', 'b', 'C', 'D']"
            ]
          },
          "execution_count": 38,
          "metadata": {},
          "output_type": "execute_result"
        }
      ],
      "source": [
        "my_list2"
      ]
    },
    {
      "cell_type": "code",
      "execution_count": null,
      "metadata": {
        "colab": {
          "base_uri": "https://localhost:8080/"
        },
        "id": "-IB1Aq7saB9v",
        "outputId": "0d2e5bcc-2e21-435f-82a5-890ae5f32572"
      },
      "outputs": [
        {
          "data": {
            "text/plain": [
              "[1, 2, 3]"
            ]
          },
          "execution_count": 39,
          "metadata": {},
          "output_type": "execute_result"
        }
      ],
      "source": [
        "alist=list((1,2,3))\n",
        "alist"
      ]
    },
    {
      "cell_type": "markdown",
      "metadata": {
        "id": "SZYIfjVja4AB"
      },
      "source": [
        "Inserting"
      ]
    },
    {
      "cell_type": "code",
      "execution_count": null,
      "metadata": {
        "id": "xXjixhkSapKh"
      },
      "outputs": [],
      "source": [
        "alist.append(4)"
      ]
    },
    {
      "cell_type": "code",
      "execution_count": null,
      "metadata": {
        "colab": {
          "base_uri": "https://localhost:8080/"
        },
        "id": "at1-iRM7asKO",
        "outputId": "e1bfa5a0-914b-49d8-9544-43d540f7210f"
      },
      "outputs": [
        {
          "data": {
            "text/plain": [
              "[1, 2, 3, 4]"
            ]
          },
          "execution_count": 41,
          "metadata": {},
          "output_type": "execute_result"
        }
      ],
      "source": [
        "alist"
      ]
    },
    {
      "cell_type": "code",
      "execution_count": null,
      "metadata": {
        "id": "3cuqQkwjatPE"
      },
      "outputs": [],
      "source": [
        "alist.insert(3,5)"
      ]
    },
    {
      "cell_type": "code",
      "execution_count": null,
      "metadata": {
        "colab": {
          "base_uri": "https://localhost:8080/"
        },
        "id": "wTBQv_qDaxXP",
        "outputId": "ba487702-20ce-4b1a-c64e-b47bb42455d6"
      },
      "outputs": [
        {
          "data": {
            "text/plain": [
              "[1, 2, 3, 5, 4]"
            ]
          },
          "execution_count": 43,
          "metadata": {},
          "output_type": "execute_result"
        }
      ],
      "source": [
        "alist"
      ]
    },
    {
      "cell_type": "markdown",
      "metadata": {
        "id": "3-ZVa38wbMCR"
      },
      "source": [
        "Removing"
      ]
    },
    {
      "cell_type": "code",
      "execution_count": null,
      "metadata": {
        "id": "I-Ze-gTUayde"
      },
      "outputs": [],
      "source": [
        "alist.remove(5)"
      ]
    },
    {
      "cell_type": "code",
      "execution_count": null,
      "metadata": {
        "colab": {
          "base_uri": "https://localhost:8080/"
        },
        "id": "7ojYQvxVbSNu",
        "outputId": "cffdb243-ba14-4129-a5a4-e178d507dfd7"
      },
      "outputs": [
        {
          "data": {
            "text/plain": [
              "[1, 2, 3, 4]"
            ]
          },
          "execution_count": 46,
          "metadata": {},
          "output_type": "execute_result"
        }
      ],
      "source": [
        "alist"
      ]
    },
    {
      "cell_type": "code",
      "execution_count": null,
      "metadata": {
        "colab": {
          "base_uri": "https://localhost:8080/"
        },
        "id": "-fiSqaO5bVBB",
        "outputId": "22a11a30-8281-4bc6-e90c-5079cc7042ff"
      },
      "outputs": [
        {
          "data": {
            "text/plain": [
              "4"
            ]
          },
          "execution_count": 47,
          "metadata": {},
          "output_type": "execute_result"
        }
      ],
      "source": [
        "alist.pop()"
      ]
    },
    {
      "cell_type": "code",
      "execution_count": null,
      "metadata": {
        "colab": {
          "base_uri": "https://localhost:8080/"
        },
        "id": "Zll6kMQ0bWhz",
        "outputId": "ae6d9fc6-d4e2-4e23-a790-2a891053e36c"
      },
      "outputs": [
        {
          "data": {
            "text/plain": [
              "[1, 2, 3]"
            ]
          },
          "execution_count": 48,
          "metadata": {},
          "output_type": "execute_result"
        }
      ],
      "source": [
        "alist"
      ]
    },
    {
      "cell_type": "code",
      "execution_count": null,
      "metadata": {
        "id": "JtLuGT9tbYC6"
      },
      "outputs": [],
      "source": [
        "del alist[1]"
      ]
    },
    {
      "cell_type": "code",
      "execution_count": null,
      "metadata": {
        "colab": {
          "base_uri": "https://localhost:8080/"
        },
        "id": "KU6KZh9aba2t",
        "outputId": "a4125755-e1c5-4b8b-82b9-7c5b80a6a968"
      },
      "outputs": [
        {
          "data": {
            "text/plain": [
              "[1, 3]"
            ]
          },
          "execution_count": 50,
          "metadata": {},
          "output_type": "execute_result"
        }
      ],
      "source": [
        "alist"
      ]
    },
    {
      "cell_type": "markdown",
      "metadata": {
        "id": "2Iy1j8MtbxaW"
      },
      "source": [
        "Combining 2 list"
      ]
    },
    {
      "cell_type": "code",
      "execution_count": null,
      "metadata": {
        "colab": {
          "base_uri": "https://localhost:8080/"
        },
        "id": "3O9SFD43bbsj",
        "outputId": "5c24eae7-b3ec-4028-c068-dbda6ce9d2f7"
      },
      "outputs": [
        {
          "data": {
            "text/plain": [
              "[1, 2, 3, 'a', 'b', 'c']"
            ]
          },
          "execution_count": 51,
          "metadata": {},
          "output_type": "execute_result"
        }
      ],
      "source": [
        "l1=[1,2,3]\n",
        "l2=[\"a\",\"b\",\"c\"]\n",
        "l3=l1+l2\n",
        "l3"
      ]
    },
    {
      "cell_type": "markdown",
      "metadata": {
        "id": "E7YdCQrZb95M"
      },
      "source": [
        "Nested List"
      ]
    },
    {
      "cell_type": "code",
      "execution_count": null,
      "metadata": {
        "colab": {
          "base_uri": "https://localhost:8080/"
        },
        "id": "l09BIGpUb8wy",
        "outputId": "6851ce69-423d-4b84-bbc7-ad206f24bd4c"
      },
      "outputs": [
        {
          "data": {
            "text/plain": [
              "[[1, 2, 3], ['a', 'b', 'c']]"
            ]
          },
          "execution_count": 52,
          "metadata": {},
          "output_type": "execute_result"
        }
      ],
      "source": [
        "nl3=[l1,l2]\n",
        "nl3"
      ]
    },
    {
      "cell_type": "markdown",
      "metadata": {
        "id": "y0Kg7S4wcXGs"
      },
      "source": [
        "sorting a list"
      ]
    },
    {
      "cell_type": "code",
      "execution_count": null,
      "metadata": {
        "id": "ggx6MovocCBz"
      },
      "outputs": [],
      "source": [
        "alp_list=[54,213,54,1,3567,32]\n",
        "alp_list.sort()"
      ]
    },
    {
      "cell_type": "code",
      "execution_count": null,
      "metadata": {
        "colab": {
          "base_uri": "https://localhost:8080/"
        },
        "id": "SW1kOPPQcg5r",
        "outputId": "82ed2e29-c845-40db-9b74-dc8dee8b896b"
      },
      "outputs": [
        {
          "data": {
            "text/plain": [
              "[1, 32, 54, 54, 213, 3567]"
            ]
          },
          "execution_count": 54,
          "metadata": {},
          "output_type": "execute_result"
        }
      ],
      "source": [
        "alp_list"
      ]
    },
    {
      "cell_type": "code",
      "execution_count": null,
      "metadata": {
        "colab": {
          "base_uri": "https://localhost:8080/"
        },
        "id": "MAFmeVyqcicu",
        "outputId": "0285daba-e9a0-4ec6-a5d4-a9d92cf0d6ae"
      },
      "outputs": [
        {
          "data": {
            "text/plain": [
              "[1, 2, 3, 45, 5654]"
            ]
          },
          "execution_count": 56,
          "metadata": {},
          "output_type": "execute_result"
        }
      ],
      "source": [
        "alp_list=[1,2,3,45,5654]\n",
        "alp_list.sort()\n",
        "alp_list"
      ]
    },
    {
      "cell_type": "code",
      "execution_count": null,
      "metadata": {
        "id": "8LvDeV78c7-U"
      },
      "outputs": [],
      "source": [
        "l3=[\"A\",\"a\",\"Ab\"]\n",
        "l3.sort()"
      ]
    },
    {
      "cell_type": "code",
      "execution_count": null,
      "metadata": {
        "colab": {
          "base_uri": "https://localhost:8080/"
        },
        "id": "3crB42n-cwfm",
        "outputId": "ae4182bf-6ca2-4777-eee4-65ede479468c"
      },
      "outputs": [
        {
          "data": {
            "text/plain": [
              "['A', 'Ab', 'a']"
            ]
          },
          "execution_count": 60,
          "metadata": {},
          "output_type": "execute_result"
        }
      ],
      "source": [
        "l3"
      ]
    },
    {
      "cell_type": "markdown",
      "metadata": {
        "id": "xrdc-uY3dGyr"
      },
      "source": [
        "Slicing"
      ]
    },
    {
      "cell_type": "code",
      "execution_count": null,
      "metadata": {
        "colab": {
          "base_uri": "https://localhost:8080/"
        },
        "id": "Lw_yuinidBaZ",
        "outputId": "71ee6eb4-26f7-4bb2-af53-a00f658f7527"
      },
      "outputs": [
        {
          "data": {
            "text/plain": [
              "[1, 2, 3, 45]"
            ]
          },
          "execution_count": 61,
          "metadata": {},
          "output_type": "execute_result"
        }
      ],
      "source": [
        "alp_list[0:4]"
      ]
    },
    {
      "cell_type": "markdown",
      "metadata": {
        "id": "8kfeX--FdYJt"
      },
      "source": [
        "Tuple"
      ]
    },
    {
      "cell_type": "code",
      "execution_count": null,
      "metadata": {
        "colab": {
          "base_uri": "https://localhost:8080/"
        },
        "id": "94dehKBUdLM0",
        "outputId": "a38934b2-e008-470b-f8b3-bb1be8367d03"
      },
      "outputs": [
        {
          "data": {
            "text/plain": [
              "(1, 2, 33, 4)"
            ]
          },
          "execution_count": 62,
          "metadata": {},
          "output_type": "execute_result"
        }
      ],
      "source": [
        "my_tup=(1,2,33,4)\n",
        "my_tup"
      ]
    },
    {
      "cell_type": "code",
      "execution_count": null,
      "metadata": {
        "colab": {
          "base_uri": "https://localhost:8080/"
        },
        "id": "uniZhZVWdchL",
        "outputId": "b9bae0c4-5228-489f-b9ce-37f2e50474f2"
      },
      "outputs": [
        {
          "data": {
            "text/plain": [
              "(1, 2)"
            ]
          },
          "execution_count": 63,
          "metadata": {},
          "output_type": "execute_result"
        }
      ],
      "source": [
        "my_tup[0:2]"
      ]
    },
    {
      "cell_type": "code",
      "execution_count": null,
      "metadata": {
        "colab": {
          "base_uri": "https://localhost:8080/"
        },
        "id": "VTmgLOA6dfQM",
        "outputId": "744e5e4c-ea58-405d-d87b-c3a412f36b0a"
      },
      "outputs": [
        {
          "name": "stdout",
          "output_type": "stream",
          "text": [
            "(1, 3, 5, 7, 9)\n"
          ]
        }
      ],
      "source": [
        "numbers=(1,2,3,4,5,6,7,8,9,10)\n",
        "print(numbers[0:10:2])"
      ]
    },
    {
      "cell_type": "code",
      "execution_count": null,
      "metadata": {
        "colab": {
          "base_uri": "https://localhost:8080/"
        },
        "id": "2fhE_bm5drD_",
        "outputId": "30615d86-1f55-49a9-ef0b-103f3d226f1a"
      },
      "outputs": [
        {
          "data": {
            "text/plain": [
              "(1, 2, 85, 4, 5, 6, 7, 8, 9, 10)"
            ]
          },
          "execution_count": 66,
          "metadata": {},
          "output_type": "execute_result"
        }
      ],
      "source": [
        "y=list(numbers)\n",
        "y[2]=85\n",
        "numbers=tuple(y)\n",
        "numbers"
      ]
    },
    {
      "cell_type": "markdown",
      "metadata": {
        "id": "p4YZ__7DfIqs"
      },
      "source": [
        "Dictionary"
      ]
    },
    {
      "cell_type": "code",
      "execution_count": null,
      "metadata": {
        "colab": {
          "base_uri": "https://localhost:8080/"
        },
        "id": "tlcLn95WesvN",
        "outputId": "b4ed507b-bb6c-4303-ad48-6ec3e4c61731"
      },
      "outputs": [
        {
          "data": {
            "text/plain": [
              "{'Customer': 'Admin', 'Online': False, 'Friendds': 100}"
            ]
          },
          "execution_count": 69,
          "metadata": {},
          "output_type": "execute_result"
        }
      ],
      "source": [
        "customer1={\"Customer\":\"Admin\",\"Online\":False,\"Friendds\":100}\n",
        "customer1"
      ]
    },
    {
      "cell_type": "code",
      "execution_count": null,
      "metadata": {
        "colab": {
          "base_uri": "https://localhost:8080/"
        },
        "id": "XDfeN-iHfe4C",
        "outputId": "e311d74c-e4e5-4374-97c6-92cb0660054a"
      },
      "outputs": [
        {
          "data": {
            "text/plain": [
              "{'brand': 'honda', 'Model': 'Civic', 'year': 1968}"
            ]
          },
          "execution_count": 75,
          "metadata": {},
          "output_type": "execute_result"
        }
      ],
      "source": [
        "new_dict={\n",
        "    \"brand\":\"honda\",\n",
        "    \"Model\":\"Civic\",\n",
        "    \"year\":1968\n",
        "}\n",
        "new_dict"
      ]
    },
    {
      "cell_type": "code",
      "execution_count": null,
      "metadata": {
        "id": "TNcdI2jrfwZw"
      },
      "outputs": [],
      "source": [
        "new_dict[\"year\"]=2020 #changing"
      ]
    },
    {
      "cell_type": "code",
      "execution_count": null,
      "metadata": {
        "colab": {
          "base_uri": "https://localhost:8080/"
        },
        "id": "bSnVJsFXgTr1",
        "outputId": "1cb2c557-02b3-4485-ffb8-d0ab029eabb9"
      },
      "outputs": [
        {
          "data": {
            "text/plain": [
              "{'brand': 'honda', 'Model': 'Civic', 'year': 2020}"
            ]
          },
          "execution_count": 83,
          "metadata": {},
          "output_type": "execute_result"
        }
      ],
      "source": [
        "new_dict"
      ]
    },
    {
      "cell_type": "code",
      "execution_count": null,
      "metadata": {
        "colab": {
          "base_uri": "https://localhost:8080/"
        },
        "id": "jvB18l0QgUd5",
        "outputId": "006e2ddd-7175-46fd-d506-324bac45b01b"
      },
      "outputs": [
        {
          "name": "stdout",
          "output_type": "stream",
          "text": [
            "brand\n",
            "Model\n",
            "year\n"
          ]
        }
      ],
      "source": [
        "for x in new_dict:\n",
        "  print(x)"
      ]
    },
    {
      "cell_type": "code",
      "execution_count": null,
      "metadata": {
        "colab": {
          "base_uri": "https://localhost:8080/"
        },
        "id": "bUWani2Tgn2L",
        "outputId": "d887761d-904a-4581-b22a-cee05c30e526"
      },
      "outputs": [
        {
          "name": "stdout",
          "output_type": "stream",
          "text": [
            "honda\n",
            "Civic\n",
            "2020\n"
          ]
        }
      ],
      "source": [
        "for x in new_dict:\n",
        "  print(new_dict[x])"
      ]
    },
    {
      "cell_type": "code",
      "execution_count": null,
      "metadata": {
        "colab": {
          "base_uri": "https://localhost:8080/"
        },
        "id": "iIK7AGiCgrsr",
        "outputId": "82ea53cb-1ad6-447c-9205-5e287c7a0072"
      },
      "outputs": [
        {
          "name": "stdout",
          "output_type": "stream",
          "text": [
            "brand : honda\n",
            "Model : Civic\n",
            "year : 2020\n"
          ]
        }
      ],
      "source": [
        "for x,y in new_dict.items():\n",
        "  print(x,\":\",y)"
      ]
    },
    {
      "cell_type": "markdown",
      "metadata": {
        "id": "_czNHuG8hONg"
      },
      "source": [
        "Nested If"
      ]
    },
    {
      "cell_type": "code",
      "execution_count": null,
      "metadata": {
        "colab": {
          "base_uri": "https://localhost:8080/"
        },
        "id": "9GzrqP8xg1vP",
        "outputId": "b747622d-a357-4096-da77-174ae87748bf"
      },
      "outputs": [
        {
          "name": "stdout",
          "output_type": "stream",
          "text": [
            "above 20,\n",
            "and Above 30 also!!\n"
          ]
        }
      ],
      "source": [
        "x=35\n",
        "if x>20:\n",
        "  print(\"above 20,\")\n",
        "  if x>30:\n",
        "    print(\"and Above 30 also!!\")"
      ]
    },
    {
      "cell_type": "markdown",
      "metadata": {
        "id": "aUWSCXuBiA7n"
      },
      "source": [
        "elif"
      ]
    },
    {
      "cell_type": "code",
      "execution_count": null,
      "metadata": {
        "colab": {
          "base_uri": "https://localhost:8080/"
        },
        "id": "yriSp-sUh0ZT",
        "outputId": "f2225fc9-8454-492c-973c-15f232f84ebe"
      },
      "outputs": [
        {
          "name": "stdout",
          "output_type": "stream",
          "text": [
            "equal\n"
          ]
        }
      ],
      "source": [
        "a=45\n",
        "b=45\n",
        "if b>a:\n",
        "  print(\"b is greater then a\")\n",
        "elif b==a:\n",
        "  print(\"equal\")"
      ]
    },
    {
      "cell_type": "markdown",
      "metadata": {
        "id": "28BouiIIiVIH"
      },
      "source": [
        "else\n"
      ]
    },
    {
      "cell_type": "code",
      "execution_count": null,
      "metadata": {
        "colab": {
          "base_uri": "https://localhost:8080/"
        },
        "id": "M0IO50AkiNam",
        "outputId": "bbd6ec6e-94d9-438d-dcdc-81b57ab8f09a"
      },
      "outputs": [
        {
          "name": "stdout",
          "output_type": "stream",
          "text": [
            "Enter the age:85\n",
            "No discount\n"
          ]
        }
      ],
      "source": [
        "age=int(input(\"Enter the age:\"))\n",
        "if age<=4:\n",
        "  print(\"Ticket Is free\")\n",
        "elif age<18:\n",
        "  print(\"Discount of 50%\")\n",
        "else:\n",
        "  print(\"No discount\")"
      ]
    },
    {
      "cell_type": "markdown",
      "metadata": {
        "id": "PxhD8uQ3i-rg"
      },
      "source": [
        "if-not"
      ]
    },
    {
      "cell_type": "code",
      "execution_count": null,
      "metadata": {
        "colab": {
          "base_uri": "https://localhost:8080/"
        },
        "id": "GJBQTScHirvM",
        "outputId": "246214d5-d1a4-4af6-a47c-d0d478bd8b55"
      },
      "outputs": [
        {
          "name": "stdout",
          "output_type": "stream",
          "text": [
            "not in list\n"
          ]
        }
      ],
      "source": [
        "new_list=[1,2,35,56]\n",
        "x=46\n",
        "if x not in new_list:\n",
        "  print(\"not in list\")"
      ]
    },
    {
      "cell_type": "markdown",
      "metadata": {
        "id": "Kkgk2-ARjRKO"
      },
      "source": [
        "Whileloop"
      ]
    },
    {
      "cell_type": "code",
      "execution_count": null,
      "metadata": {
        "colab": {
          "base_uri": "https://localhost:8080/"
        },
        "id": "C9Axmw-ejFu-",
        "outputId": "741e56e3-f4ab-4c0f-93c7-dd3f1f5b3d64"
      },
      "outputs": [
        {
          "name": "stdout",
          "output_type": "stream",
          "text": [
            "1\n",
            "2\n",
            "3\n",
            "4\n",
            "5\n",
            "6\n",
            "7\n"
          ]
        }
      ],
      "source": [
        "i=1\n",
        "while i<8:\n",
        "  print(i)\n",
        "  i+=1\n"
      ]
    },
    {
      "cell_type": "code",
      "execution_count": null,
      "metadata": {
        "colab": {
          "base_uri": "https://localhost:8080/"
        },
        "id": "lzZoruP2jW7K",
        "outputId": "5afc15f0-4a40-4727-c4c4-238c9b305ce9"
      },
      "outputs": [
        {
          "name": "stdout",
          "output_type": "stream",
          "text": [
            "1\n",
            "2\n",
            "3\n",
            "4\n"
          ]
        }
      ],
      "source": [
        "i=1\n",
        "while i<8:\n",
        "  print(i)\n",
        "  if i==4:\n",
        "    break\n",
        "  i+=1\n"
      ]
    },
    {
      "cell_type": "code",
      "execution_count": null,
      "metadata": {
        "id": "1rOtfHOrjsw8"
      },
      "outputs": [],
      "source": []
    }
  ],
  "metadata": {
    "colab": {
      "provenance": []
    },
    "kernelspec": {
      "display_name": "Python 3",
      "name": "python3"
    },
    "language_info": {
      "codemirror_mode": {
        "name": "ipython",
        "version": 3
      },
      "file_extension": ".py",
      "mimetype": "text/x-python",
      "name": "python",
      "nbconvert_exporter": "python",
      "pygments_lexer": "ipython3",
      "version": "3.13.2"
    }
  },
  "nbformat": 4,
  "nbformat_minor": 0
}
