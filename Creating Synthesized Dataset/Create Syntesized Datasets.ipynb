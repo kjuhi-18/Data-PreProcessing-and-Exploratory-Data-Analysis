{
 "cells": [
  {
   "cell_type": "markdown",
   "id": "fe35d58c",
   "metadata": {},
   "source": [
    "Importing Libraries"
   ]
  },
  {
   "cell_type": "code",
   "execution_count": 1,
   "id": "23944f04",
   "metadata": {},
   "outputs": [],
   "source": [
    "import pandas as pd\n",
    "#for unique ids\n",
    "import uuid\n",
    "#for randomization\n",
    "import random\n",
    "#for syntesized data\n",
    "from faker import Faker"
   ]
  },
  {
   "cell_type": "markdown",
   "id": "f1005623",
   "metadata": {},
   "source": [
    "No. Of users\n",
    "\n"
   ]
  },
  {
   "cell_type": "code",
   "execution_count": 2,
   "id": "54f3680b",
   "metadata": {},
   "outputs": [],
   "source": [
    "num_users=100"
   ]
  },
  {
   "cell_type": "markdown",
   "id": "66d348d8",
   "metadata": {},
   "source": [
    "Adding Features"
   ]
  },
  {
   "cell_type": "markdown",
   "id": "0d7ef2b6",
   "metadata": {},
   "source": [
    "ID-unique id\n",
    "Gender-3 entries\n",
    "Subsricber-Boolean\n",
    "Name\n",
    "Rating"
   ]
  },
  {
   "cell_type": "code",
   "execution_count": 3,
   "id": "056e7718",
   "metadata": {},
   "outputs": [],
   "source": [
    "# a list of features\n",
    "features=[\"id\",\n",
    "\"gender\",\"subscriber\",\"name\",\"rating\"]"
   ]
  },
  {
   "cell_type": "markdown",
   "id": "68cef8f3",
   "metadata": {},
   "source": [
    "Creating a dataframe for the above features"
   ]
  },
  {
   "cell_type": "code",
   "execution_count": 4,
   "id": "f11d6e67",
   "metadata": {},
   "outputs": [],
   "source": [
    "df=pd.DataFrame(columns=features)"
   ]
  },
  {
   "cell_type": "code",
   "execution_count": 5,
   "id": "b8b8fcca",
   "metadata": {},
   "outputs": [
    {
     "data": {
      "application/vnd.microsoft.datawrangler.viewer.v0+json": {
       "columns": [
        {
         "name": "index",
         "rawType": "int64",
         "type": "integer"
        },
        {
         "name": "id",
         "rawType": "object",
         "type": "string"
        },
        {
         "name": "gender",
         "rawType": "object",
         "type": "string"
        },
        {
         "name": "subscriber",
         "rawType": "object",
         "type": "string"
        },
        {
         "name": "name",
         "rawType": "object",
         "type": "string"
        },
        {
         "name": "rating",
         "rawType": "object",
         "type": "string"
        }
       ],
       "ref": "44c8abd4-b474-4582-97f6-b55fcb715755",
       "rows": [],
       "shape": {
        "columns": 5,
        "rows": 0
       }
      },
      "text/html": [
       "<div>\n",
       "<style scoped>\n",
       "    .dataframe tbody tr th:only-of-type {\n",
       "        vertical-align: middle;\n",
       "    }\n",
       "\n",
       "    .dataframe tbody tr th {\n",
       "        vertical-align: top;\n",
       "    }\n",
       "\n",
       "    .dataframe thead th {\n",
       "        text-align: right;\n",
       "    }\n",
       "</style>\n",
       "<table border=\"1\" class=\"dataframe\">\n",
       "  <thead>\n",
       "    <tr style=\"text-align: right;\">\n",
       "      <th></th>\n",
       "      <th>id</th>\n",
       "      <th>gender</th>\n",
       "      <th>subscriber</th>\n",
       "      <th>name</th>\n",
       "      <th>rating</th>\n",
       "    </tr>\n",
       "  </thead>\n",
       "  <tbody>\n",
       "  </tbody>\n",
       "</table>\n",
       "</div>"
      ],
      "text/plain": [
       "Empty DataFrame\n",
       "Columns: [id, gender, subscriber, name, rating]\n",
       "Index: []"
      ]
     },
     "execution_count": 5,
     "metadata": {},
     "output_type": "execute_result"
    }
   ],
   "source": [
    "df"
   ]
  },
  {
   "cell_type": "markdown",
   "id": "22b91b46",
   "metadata": {},
   "source": [
    "Generate Unique identifiers"
   ]
  },
  {
   "cell_type": "code",
   "execution_count": 7,
   "id": "9bf852f8",
   "metadata": {},
   "outputs": [
    {
     "data": {
      "application/vnd.microsoft.datawrangler.viewer.v0+json": {
       "columns": [
        {
         "name": "index",
         "rawType": "int64",
         "type": "integer"
        },
        {
         "name": "id",
         "rawType": "int64",
         "type": "integer"
        },
        {
         "name": "gender",
         "rawType": "object",
         "type": "unknown"
        },
        {
         "name": "subscriber",
         "rawType": "object",
         "type": "unknown"
        },
        {
         "name": "name",
         "rawType": "object",
         "type": "unknown"
        },
        {
         "name": "rating",
         "rawType": "object",
         "type": "unknown"
        }
       ],
       "ref": "d752c54b-3afb-46af-9d79-2b93b1e6f406",
       "rows": [
        [
         "0",
         "147862467616183",
         null,
         null,
         null,
         null
        ],
        [
         "1",
         "52734239559710",
         null,
         null,
         null,
         null
        ],
        [
         "2",
         "207781231427915",
         null,
         null,
         null,
         null
        ],
        [
         "3",
         "135604083362392",
         null,
         null,
         null,
         null
        ],
        [
         "4",
         "174326575082582",
         null,
         null,
         null,
         null
        ],
        [
         "5",
         "184461668934576",
         null,
         null,
         null,
         null
        ],
        [
         "6",
         "176641500661065",
         null,
         null,
         null,
         null
        ],
        [
         "7",
         "206477242032275",
         null,
         null,
         null,
         null
        ],
        [
         "8",
         "225219227919969",
         null,
         null,
         null,
         null
        ],
        [
         "9",
         "155368438855206",
         null,
         null,
         null,
         null
        ],
        [
         "10",
         "195642765349204",
         null,
         null,
         null,
         null
        ],
        [
         "11",
         "87817431198396",
         null,
         null,
         null,
         null
        ],
        [
         "12",
         "101295531999915",
         null,
         null,
         null,
         null
        ],
        [
         "13",
         "220552014979996",
         null,
         null,
         null,
         null
        ],
        [
         "14",
         "71721586194411",
         null,
         null,
         null,
         null
        ],
        [
         "15",
         "157505938004821",
         null,
         null,
         null,
         null
        ],
        [
         "16",
         "198623666423262",
         null,
         null,
         null,
         null
        ],
        [
         "17",
         "35986611132033",
         null,
         null,
         null,
         null
        ],
        [
         "18",
         "107162390326263",
         null,
         null,
         null,
         null
        ],
        [
         "19",
         "212360316112912",
         null,
         null,
         null,
         null
        ],
        [
         "20",
         "234864031008433",
         null,
         null,
         null,
         null
        ],
        [
         "21",
         "32244462711504",
         null,
         null,
         null,
         null
        ],
        [
         "22",
         "239772848851233",
         null,
         null,
         null,
         null
        ],
        [
         "23",
         "82247132528835",
         null,
         null,
         null,
         null
        ],
        [
         "24",
         "177319368945948",
         null,
         null,
         null,
         null
        ],
        [
         "25",
         "128351595496846",
         null,
         null,
         null,
         null
        ],
        [
         "26",
         "163155364360928",
         null,
         null,
         null,
         null
        ],
        [
         "27",
         "214536210989921",
         null,
         null,
         null,
         null
        ],
        [
         "28",
         "4906692670148",
         null,
         null,
         null,
         null
        ],
        [
         "29",
         "24788858884756",
         null,
         null,
         null,
         null
        ],
        [
         "30",
         "189056745254275",
         null,
         null,
         null,
         null
        ],
        [
         "31",
         "11080239237105",
         null,
         null,
         null,
         null
        ],
        [
         "32",
         "149444873852163",
         null,
         null,
         null,
         null
        ],
        [
         "33",
         "243683023086134",
         null,
         null,
         null,
         null
        ],
        [
         "34",
         "196912695146063",
         null,
         null,
         null,
         null
        ],
        [
         "35",
         "18020421601245",
         null,
         null,
         null,
         null
        ],
        [
         "36",
         "1435313284081",
         null,
         null,
         null,
         null
        ],
        [
         "37",
         "75241737365396",
         null,
         null,
         null,
         null
        ],
        [
         "38",
         "118498642718351",
         null,
         null,
         null,
         null
        ],
        [
         "39",
         "225931945502511",
         null,
         null,
         null,
         null
        ],
        [
         "40",
         "23886626240958",
         null,
         null,
         null,
         null
        ],
        [
         "41",
         "106139381699452",
         null,
         null,
         null,
         null
        ],
        [
         "42",
         "197080649761714",
         null,
         null,
         null,
         null
        ],
        [
         "43",
         "244165765960038",
         null,
         null,
         null,
         null
        ],
        [
         "44",
         "132262848430212",
         null,
         null,
         null,
         null
        ],
        [
         "45",
         "180300839980065",
         null,
         null,
         null,
         null
        ],
        [
         "46",
         "57300175060222",
         null,
         null,
         null,
         null
        ],
        [
         "47",
         "229100118915308",
         null,
         null,
         null,
         null
        ],
        [
         "48",
         "152863299674016",
         null,
         null,
         null,
         null
        ],
        [
         "49",
         "83165740644924",
         null,
         null,
         null,
         null
        ]
       ],
       "shape": {
        "columns": 5,
        "rows": 100
       }
      },
      "text/html": [
       "<div>\n",
       "<style scoped>\n",
       "    .dataframe tbody tr th:only-of-type {\n",
       "        vertical-align: middle;\n",
       "    }\n",
       "\n",
       "    .dataframe tbody tr th {\n",
       "        vertical-align: top;\n",
       "    }\n",
       "\n",
       "    .dataframe thead th {\n",
       "        text-align: right;\n",
       "    }\n",
       "</style>\n",
       "<table border=\"1\" class=\"dataframe\">\n",
       "  <thead>\n",
       "    <tr style=\"text-align: right;\">\n",
       "      <th></th>\n",
       "      <th>id</th>\n",
       "      <th>gender</th>\n",
       "      <th>subscriber</th>\n",
       "      <th>name</th>\n",
       "      <th>rating</th>\n",
       "    </tr>\n",
       "  </thead>\n",
       "  <tbody>\n",
       "    <tr>\n",
       "      <th>0</th>\n",
       "      <td>147862467616183</td>\n",
       "      <td>NaN</td>\n",
       "      <td>NaN</td>\n",
       "      <td>NaN</td>\n",
       "      <td>NaN</td>\n",
       "    </tr>\n",
       "    <tr>\n",
       "      <th>1</th>\n",
       "      <td>52734239559710</td>\n",
       "      <td>NaN</td>\n",
       "      <td>NaN</td>\n",
       "      <td>NaN</td>\n",
       "      <td>NaN</td>\n",
       "    </tr>\n",
       "    <tr>\n",
       "      <th>2</th>\n",
       "      <td>207781231427915</td>\n",
       "      <td>NaN</td>\n",
       "      <td>NaN</td>\n",
       "      <td>NaN</td>\n",
       "      <td>NaN</td>\n",
       "    </tr>\n",
       "    <tr>\n",
       "      <th>3</th>\n",
       "      <td>135604083362392</td>\n",
       "      <td>NaN</td>\n",
       "      <td>NaN</td>\n",
       "      <td>NaN</td>\n",
       "      <td>NaN</td>\n",
       "    </tr>\n",
       "    <tr>\n",
       "      <th>4</th>\n",
       "      <td>174326575082582</td>\n",
       "      <td>NaN</td>\n",
       "      <td>NaN</td>\n",
       "      <td>NaN</td>\n",
       "      <td>NaN</td>\n",
       "    </tr>\n",
       "    <tr>\n",
       "      <th>...</th>\n",
       "      <td>...</td>\n",
       "      <td>...</td>\n",
       "      <td>...</td>\n",
       "      <td>...</td>\n",
       "      <td>...</td>\n",
       "    </tr>\n",
       "    <tr>\n",
       "      <th>95</th>\n",
       "      <td>280822845604839</td>\n",
       "      <td>NaN</td>\n",
       "      <td>NaN</td>\n",
       "      <td>NaN</td>\n",
       "      <td>NaN</td>\n",
       "    </tr>\n",
       "    <tr>\n",
       "      <th>96</th>\n",
       "      <td>93233478449510</td>\n",
       "      <td>NaN</td>\n",
       "      <td>NaN</td>\n",
       "      <td>NaN</td>\n",
       "      <td>NaN</td>\n",
       "    </tr>\n",
       "    <tr>\n",
       "      <th>97</th>\n",
       "      <td>18461790421820</td>\n",
       "      <td>NaN</td>\n",
       "      <td>NaN</td>\n",
       "      <td>NaN</td>\n",
       "      <td>NaN</td>\n",
       "    </tr>\n",
       "    <tr>\n",
       "      <th>98</th>\n",
       "      <td>160052837140583</td>\n",
       "      <td>NaN</td>\n",
       "      <td>NaN</td>\n",
       "      <td>NaN</td>\n",
       "      <td>NaN</td>\n",
       "    </tr>\n",
       "    <tr>\n",
       "      <th>99</th>\n",
       "      <td>118354614260476</td>\n",
       "      <td>NaN</td>\n",
       "      <td>NaN</td>\n",
       "      <td>NaN</td>\n",
       "      <td>NaN</td>\n",
       "    </tr>\n",
       "  </tbody>\n",
       "</table>\n",
       "<p>100 rows × 5 columns</p>\n",
       "</div>"
      ],
      "text/plain": [
       "                 id gender subscriber name rating\n",
       "0   147862467616183    NaN        NaN  NaN    NaN\n",
       "1    52734239559710    NaN        NaN  NaN    NaN\n",
       "2   207781231427915    NaN        NaN  NaN    NaN\n",
       "3   135604083362392    NaN        NaN  NaN    NaN\n",
       "4   174326575082582    NaN        NaN  NaN    NaN\n",
       "..              ...    ...        ...  ...    ...\n",
       "95  280822845604839    NaN        NaN  NaN    NaN\n",
       "96   93233478449510    NaN        NaN  NaN    NaN\n",
       "97   18461790421820    NaN        NaN  NaN    NaN\n",
       "98  160052837140583    NaN        NaN  NaN    NaN\n",
       "99  118354614260476    NaN        NaN  NaN    NaN\n",
       "\n",
       "[100 rows x 5 columns]"
      ]
     },
     "execution_count": 7,
     "metadata": {},
     "output_type": "execute_result"
    }
   ],
   "source": [
    "df[\"id\"]=[uuid.uuid4().node for i in range(num_users)]#adding the randmoly genrated ids\n",
    "df"
   ]
  },
  {
   "cell_type": "code",
   "execution_count": 9,
   "id": "c509340a",
   "metadata": {},
   "outputs": [
    {
     "name": "stdout",
     "output_type": "stream",
     "text": [
      "True\n"
     ]
    }
   ],
   "source": [
    "print(df[\"id\"].nunique()==num_users)#checking if there is any duplicate value"
   ]
  },
  {
   "cell_type": "markdown",
   "id": "22271713",
   "metadata": {},
   "source": [
    "Generating Gender Values"
   ]
  },
  {
   "cell_type": "code",
   "execution_count": null,
   "id": "6497c057",
   "metadata": {},
   "outputs": [
    {
     "data": {
      "application/vnd.microsoft.datawrangler.viewer.v0+json": {
       "columns": [
        {
         "name": "index",
         "rawType": "int64",
         "type": "integer"
        },
        {
         "name": "id",
         "rawType": "int64",
         "type": "integer"
        },
        {
         "name": "gender",
         "rawType": "object",
         "type": "string"
        },
        {
         "name": "subscriber",
         "rawType": "object",
         "type": "unknown"
        },
        {
         "name": "name",
         "rawType": "object",
         "type": "unknown"
        },
        {
         "name": "rating",
         "rawType": "object",
         "type": "unknown"
        }
       ],
       "ref": "6b4de0a0-68da-4b25-9bd5-2cb1694d35bf",
       "rows": [
        [
         "0",
         "147862467616183",
         "Male",
         null,
         null,
         null
        ],
        [
         "1",
         "52734239559710",
         "Male",
         null,
         null,
         null
        ],
        [
         "2",
         "207781231427915",
         "Male",
         null,
         null,
         null
        ],
        [
         "3",
         "135604083362392",
         "Female",
         null,
         null,
         null
        ],
        [
         "4",
         "174326575082582",
         "Male",
         null,
         null,
         null
        ],
        [
         "5",
         "184461668934576",
         "Male",
         null,
         null,
         null
        ],
        [
         "6",
         "176641500661065",
         "Male",
         null,
         null,
         null
        ],
        [
         "7",
         "206477242032275",
         "Female",
         null,
         null,
         null
        ],
        [
         "8",
         "225219227919969",
         "Male",
         null,
         null,
         null
        ],
        [
         "9",
         "155368438855206",
         "Female",
         null,
         null,
         null
        ],
        [
         "10",
         "195642765349204",
         "Female",
         null,
         null,
         null
        ],
        [
         "11",
         "87817431198396",
         "Female",
         null,
         null,
         null
        ],
        [
         "12",
         "101295531999915",
         "Female",
         null,
         null,
         null
        ],
        [
         "13",
         "220552014979996",
         "Male",
         null,
         null,
         null
        ],
        [
         "14",
         "71721586194411",
         "Male",
         null,
         null,
         null
        ],
        [
         "15",
         "157505938004821",
         "Female",
         null,
         null,
         null
        ],
        [
         "16",
         "198623666423262",
         "Male",
         null,
         null,
         null
        ],
        [
         "17",
         "35986611132033",
         "Male",
         null,
         null,
         null
        ],
        [
         "18",
         "107162390326263",
         "Female",
         null,
         null,
         null
        ],
        [
         "19",
         "212360316112912",
         "Male",
         null,
         null,
         null
        ],
        [
         "20",
         "234864031008433",
         "Male",
         null,
         null,
         null
        ],
        [
         "21",
         "32244462711504",
         "Male",
         null,
         null,
         null
        ],
        [
         "22",
         "239772848851233",
         "Male",
         null,
         null,
         null
        ],
        [
         "23",
         "82247132528835",
         "Female",
         null,
         null,
         null
        ],
        [
         "24",
         "177319368945948",
         "NA",
         null,
         null,
         null
        ],
        [
         "25",
         "128351595496846",
         "Male",
         null,
         null,
         null
        ],
        [
         "26",
         "163155364360928",
         "Male",
         null,
         null,
         null
        ],
        [
         "27",
         "214536210989921",
         "Female",
         null,
         null,
         null
        ],
        [
         "28",
         "4906692670148",
         "Female",
         null,
         null,
         null
        ],
        [
         "29",
         "24788858884756",
         "Female",
         null,
         null,
         null
        ],
        [
         "30",
         "189056745254275",
         "Male",
         null,
         null,
         null
        ],
        [
         "31",
         "11080239237105",
         "Male",
         null,
         null,
         null
        ],
        [
         "32",
         "149444873852163",
         "Male",
         null,
         null,
         null
        ],
        [
         "33",
         "243683023086134",
         "Female",
         null,
         null,
         null
        ],
        [
         "34",
         "196912695146063",
         "Male",
         null,
         null,
         null
        ],
        [
         "35",
         "18020421601245",
         "Female",
         null,
         null,
         null
        ],
        [
         "36",
         "1435313284081",
         "Female",
         null,
         null,
         null
        ],
        [
         "37",
         "75241737365396",
         "Male",
         null,
         null,
         null
        ],
        [
         "38",
         "118498642718351",
         "Male",
         null,
         null,
         null
        ],
        [
         "39",
         "225931945502511",
         "Female",
         null,
         null,
         null
        ],
        [
         "40",
         "23886626240958",
         "Male",
         null,
         null,
         null
        ],
        [
         "41",
         "106139381699452",
         "Male",
         null,
         null,
         null
        ],
        [
         "42",
         "197080649761714",
         "Female",
         null,
         null,
         null
        ],
        [
         "43",
         "244165765960038",
         "Female",
         null,
         null,
         null
        ],
        [
         "44",
         "132262848430212",
         "Female",
         null,
         null,
         null
        ],
        [
         "45",
         "180300839980065",
         "Male",
         null,
         null,
         null
        ],
        [
         "46",
         "57300175060222",
         "Female",
         null,
         null,
         null
        ],
        [
         "47",
         "229100118915308",
         "Male",
         null,
         null,
         null
        ],
        [
         "48",
         "152863299674016",
         "Male",
         null,
         null,
         null
        ],
        [
         "49",
         "83165740644924",
         "Female",
         null,
         null,
         null
        ]
       ],
       "shape": {
        "columns": 5,
        "rows": 100
       }
      },
      "text/html": [
       "<div>\n",
       "<style scoped>\n",
       "    .dataframe tbody tr th:only-of-type {\n",
       "        vertical-align: middle;\n",
       "    }\n",
       "\n",
       "    .dataframe tbody tr th {\n",
       "        vertical-align: top;\n",
       "    }\n",
       "\n",
       "    .dataframe thead th {\n",
       "        text-align: right;\n",
       "    }\n",
       "</style>\n",
       "<table border=\"1\" class=\"dataframe\">\n",
       "  <thead>\n",
       "    <tr style=\"text-align: right;\">\n",
       "      <th></th>\n",
       "      <th>id</th>\n",
       "      <th>gender</th>\n",
       "      <th>subscriber</th>\n",
       "      <th>name</th>\n",
       "      <th>rating</th>\n",
       "    </tr>\n",
       "  </thead>\n",
       "  <tbody>\n",
       "    <tr>\n",
       "      <th>0</th>\n",
       "      <td>147862467616183</td>\n",
       "      <td>Male</td>\n",
       "      <td>NaN</td>\n",
       "      <td>NaN</td>\n",
       "      <td>NaN</td>\n",
       "    </tr>\n",
       "    <tr>\n",
       "      <th>1</th>\n",
       "      <td>52734239559710</td>\n",
       "      <td>Male</td>\n",
       "      <td>NaN</td>\n",
       "      <td>NaN</td>\n",
       "      <td>NaN</td>\n",
       "    </tr>\n",
       "    <tr>\n",
       "      <th>2</th>\n",
       "      <td>207781231427915</td>\n",
       "      <td>Male</td>\n",
       "      <td>NaN</td>\n",
       "      <td>NaN</td>\n",
       "      <td>NaN</td>\n",
       "    </tr>\n",
       "    <tr>\n",
       "      <th>3</th>\n",
       "      <td>135604083362392</td>\n",
       "      <td>Female</td>\n",
       "      <td>NaN</td>\n",
       "      <td>NaN</td>\n",
       "      <td>NaN</td>\n",
       "    </tr>\n",
       "    <tr>\n",
       "      <th>4</th>\n",
       "      <td>174326575082582</td>\n",
       "      <td>Male</td>\n",
       "      <td>NaN</td>\n",
       "      <td>NaN</td>\n",
       "      <td>NaN</td>\n",
       "    </tr>\n",
       "    <tr>\n",
       "      <th>...</th>\n",
       "      <td>...</td>\n",
       "      <td>...</td>\n",
       "      <td>...</td>\n",
       "      <td>...</td>\n",
       "      <td>...</td>\n",
       "    </tr>\n",
       "    <tr>\n",
       "      <th>95</th>\n",
       "      <td>280822845604839</td>\n",
       "      <td>Female</td>\n",
       "      <td>NaN</td>\n",
       "      <td>NaN</td>\n",
       "      <td>NaN</td>\n",
       "    </tr>\n",
       "    <tr>\n",
       "      <th>96</th>\n",
       "      <td>93233478449510</td>\n",
       "      <td>Male</td>\n",
       "      <td>NaN</td>\n",
       "      <td>NaN</td>\n",
       "      <td>NaN</td>\n",
       "    </tr>\n",
       "    <tr>\n",
       "      <th>97</th>\n",
       "      <td>18461790421820</td>\n",
       "      <td>Female</td>\n",
       "      <td>NaN</td>\n",
       "      <td>NaN</td>\n",
       "      <td>NaN</td>\n",
       "    </tr>\n",
       "    <tr>\n",
       "      <th>98</th>\n",
       "      <td>160052837140583</td>\n",
       "      <td>Female</td>\n",
       "      <td>NaN</td>\n",
       "      <td>NaN</td>\n",
       "      <td>NaN</td>\n",
       "    </tr>\n",
       "    <tr>\n",
       "      <th>99</th>\n",
       "      <td>118354614260476</td>\n",
       "      <td>Female</td>\n",
       "      <td>NaN</td>\n",
       "      <td>NaN</td>\n",
       "      <td>NaN</td>\n",
       "    </tr>\n",
       "  </tbody>\n",
       "</table>\n",
       "<p>100 rows × 5 columns</p>\n",
       "</div>"
      ],
      "text/plain": [
       "                 id  gender subscriber name rating\n",
       "0   147862467616183    Male        NaN  NaN    NaN\n",
       "1    52734239559710    Male        NaN  NaN    NaN\n",
       "2   207781231427915    Male        NaN  NaN    NaN\n",
       "3   135604083362392  Female        NaN  NaN    NaN\n",
       "4   174326575082582    Male        NaN  NaN    NaN\n",
       "..              ...     ...        ...  ...    ...\n",
       "95  280822845604839  Female        NaN  NaN    NaN\n",
       "96   93233478449510    Male        NaN  NaN    NaN\n",
       "97   18461790421820  Female        NaN  NaN    NaN\n",
       "98  160052837140583  Female        NaN  NaN    NaN\n",
       "99  118354614260476  Female        NaN  NaN    NaN\n",
       "\n",
       "[100 rows x 5 columns]"
      ]
     },
     "execution_count": 14,
     "metadata": {},
     "output_type": "execute_result"
    }
   ],
   "source": [
    "genders=[\"Male\",\"Female\",\"NA\"]#genders list\n",
    "df[\"gender\"]=random.choices(genders,weights=(45,45,10),k=num_users)\n",
    "df"
   ]
  },
  {
   "cell_type": "code",
   "execution_count": 17,
   "id": "6fb68fde",
   "metadata": {},
   "outputs": [
    {
     "data": {
      "application/vnd.microsoft.datawrangler.viewer.v0+json": {
       "columns": [
        {
         "name": "gender",
         "rawType": "object",
         "type": "string"
        },
        {
         "name": "count",
         "rawType": "int64",
         "type": "integer"
        }
       ],
       "ref": "90e1915e-1173-49f6-9514-9fd9376dd31a",
       "rows": [
        [
         "Male",
         "48"
        ],
        [
         "Female",
         "47"
        ],
        [
         "NA",
         "5"
        ]
       ],
       "shape": {
        "columns": 1,
        "rows": 3
       }
      },
      "text/plain": [
       "gender\n",
       "Male      48\n",
       "Female    47\n",
       "NA         5\n",
       "Name: count, dtype: int64"
      ]
     },
     "execution_count": 17,
     "metadata": {},
     "output_type": "execute_result"
    }
   ],
   "source": [
    "df.gender.value_counts()#counting all 3 genders\n"
   ]
  },
  {
   "cell_type": "markdown",
   "id": "2cab5e9c",
   "metadata": {},
   "source": [
    "Generating Choices of Subsrciber "
   ]
  },
  {
   "cell_type": "code",
   "execution_count": null,
   "id": "cbc4275b",
   "metadata": {},
   "outputs": [
    {
     "data": {
      "application/vnd.microsoft.datawrangler.viewer.v0+json": {
       "columns": [
        {
         "name": "index",
         "rawType": "int64",
         "type": "integer"
        },
        {
         "name": "id",
         "rawType": "int64",
         "type": "integer"
        },
        {
         "name": "gender",
         "rawType": "object",
         "type": "string"
        },
        {
         "name": "subscriber",
         "rawType": "bool",
         "type": "boolean"
        },
        {
         "name": "name",
         "rawType": "object",
         "type": "unknown"
        },
        {
         "name": "rating",
         "rawType": "object",
         "type": "unknown"
        }
       ],
       "ref": "4bf85cac-f752-4acd-a439-3198c306b381",
       "rows": [
        [
         "0",
         "147862467616183",
         "Male",
         "True",
         null,
         null
        ],
        [
         "1",
         "52734239559710",
         "Male",
         "False",
         null,
         null
        ],
        [
         "2",
         "207781231427915",
         "Male",
         "True",
         null,
         null
        ],
        [
         "3",
         "135604083362392",
         "Female",
         "True",
         null,
         null
        ],
        [
         "4",
         "174326575082582",
         "Male",
         "False",
         null,
         null
        ],
        [
         "5",
         "184461668934576",
         "Male",
         "False",
         null,
         null
        ],
        [
         "6",
         "176641500661065",
         "Male",
         "False",
         null,
         null
        ],
        [
         "7",
         "206477242032275",
         "Female",
         "True",
         null,
         null
        ],
        [
         "8",
         "225219227919969",
         "Male",
         "True",
         null,
         null
        ],
        [
         "9",
         "155368438855206",
         "Female",
         "False",
         null,
         null
        ],
        [
         "10",
         "195642765349204",
         "Female",
         "True",
         null,
         null
        ],
        [
         "11",
         "87817431198396",
         "Female",
         "True",
         null,
         null
        ],
        [
         "12",
         "101295531999915",
         "Female",
         "False",
         null,
         null
        ],
        [
         "13",
         "220552014979996",
         "Male",
         "True",
         null,
         null
        ],
        [
         "14",
         "71721586194411",
         "Male",
         "True",
         null,
         null
        ],
        [
         "15",
         "157505938004821",
         "Female",
         "False",
         null,
         null
        ],
        [
         "16",
         "198623666423262",
         "Male",
         "False",
         null,
         null
        ],
        [
         "17",
         "35986611132033",
         "Male",
         "False",
         null,
         null
        ],
        [
         "18",
         "107162390326263",
         "Female",
         "True",
         null,
         null
        ],
        [
         "19",
         "212360316112912",
         "Male",
         "True",
         null,
         null
        ],
        [
         "20",
         "234864031008433",
         "Male",
         "False",
         null,
         null
        ],
        [
         "21",
         "32244462711504",
         "Male",
         "True",
         null,
         null
        ],
        [
         "22",
         "239772848851233",
         "Male",
         "False",
         null,
         null
        ],
        [
         "23",
         "82247132528835",
         "Female",
         "False",
         null,
         null
        ],
        [
         "24",
         "177319368945948",
         "NA",
         "False",
         null,
         null
        ],
        [
         "25",
         "128351595496846",
         "Male",
         "True",
         null,
         null
        ],
        [
         "26",
         "163155364360928",
         "Male",
         "True",
         null,
         null
        ],
        [
         "27",
         "214536210989921",
         "Female",
         "True",
         null,
         null
        ],
        [
         "28",
         "4906692670148",
         "Female",
         "True",
         null,
         null
        ],
        [
         "29",
         "24788858884756",
         "Female",
         "True",
         null,
         null
        ],
        [
         "30",
         "189056745254275",
         "Male",
         "False",
         null,
         null
        ],
        [
         "31",
         "11080239237105",
         "Male",
         "False",
         null,
         null
        ],
        [
         "32",
         "149444873852163",
         "Male",
         "False",
         null,
         null
        ],
        [
         "33",
         "243683023086134",
         "Female",
         "False",
         null,
         null
        ],
        [
         "34",
         "196912695146063",
         "Male",
         "False",
         null,
         null
        ],
        [
         "35",
         "18020421601245",
         "Female",
         "True",
         null,
         null
        ],
        [
         "36",
         "1435313284081",
         "Female",
         "False",
         null,
         null
        ],
        [
         "37",
         "75241737365396",
         "Male",
         "True",
         null,
         null
        ],
        [
         "38",
         "118498642718351",
         "Male",
         "True",
         null,
         null
        ],
        [
         "39",
         "225931945502511",
         "Female",
         "False",
         null,
         null
        ],
        [
         "40",
         "23886626240958",
         "Male",
         "False",
         null,
         null
        ],
        [
         "41",
         "106139381699452",
         "Male",
         "False",
         null,
         null
        ],
        [
         "42",
         "197080649761714",
         "Female",
         "True",
         null,
         null
        ],
        [
         "43",
         "244165765960038",
         "Female",
         "False",
         null,
         null
        ],
        [
         "44",
         "132262848430212",
         "Female",
         "False",
         null,
         null
        ],
        [
         "45",
         "180300839980065",
         "Male",
         "True",
         null,
         null
        ],
        [
         "46",
         "57300175060222",
         "Female",
         "True",
         null,
         null
        ],
        [
         "47",
         "229100118915308",
         "Male",
         "True",
         null,
         null
        ],
        [
         "48",
         "152863299674016",
         "Male",
         "True",
         null,
         null
        ],
        [
         "49",
         "83165740644924",
         "Female",
         "True",
         null,
         null
        ]
       ],
       "shape": {
        "columns": 5,
        "rows": 100
       }
      },
      "text/html": [
       "<div>\n",
       "<style scoped>\n",
       "    .dataframe tbody tr th:only-of-type {\n",
       "        vertical-align: middle;\n",
       "    }\n",
       "\n",
       "    .dataframe tbody tr th {\n",
       "        vertical-align: top;\n",
       "    }\n",
       "\n",
       "    .dataframe thead th {\n",
       "        text-align: right;\n",
       "    }\n",
       "</style>\n",
       "<table border=\"1\" class=\"dataframe\">\n",
       "  <thead>\n",
       "    <tr style=\"text-align: right;\">\n",
       "      <th></th>\n",
       "      <th>id</th>\n",
       "      <th>gender</th>\n",
       "      <th>subscriber</th>\n",
       "      <th>name</th>\n",
       "      <th>rating</th>\n",
       "    </tr>\n",
       "  </thead>\n",
       "  <tbody>\n",
       "    <tr>\n",
       "      <th>0</th>\n",
       "      <td>147862467616183</td>\n",
       "      <td>Male</td>\n",
       "      <td>True</td>\n",
       "      <td>NaN</td>\n",
       "      <td>NaN</td>\n",
       "    </tr>\n",
       "    <tr>\n",
       "      <th>1</th>\n",
       "      <td>52734239559710</td>\n",
       "      <td>Male</td>\n",
       "      <td>False</td>\n",
       "      <td>NaN</td>\n",
       "      <td>NaN</td>\n",
       "    </tr>\n",
       "    <tr>\n",
       "      <th>2</th>\n",
       "      <td>207781231427915</td>\n",
       "      <td>Male</td>\n",
       "      <td>True</td>\n",
       "      <td>NaN</td>\n",
       "      <td>NaN</td>\n",
       "    </tr>\n",
       "    <tr>\n",
       "      <th>3</th>\n",
       "      <td>135604083362392</td>\n",
       "      <td>Female</td>\n",
       "      <td>True</td>\n",
       "      <td>NaN</td>\n",
       "      <td>NaN</td>\n",
       "    </tr>\n",
       "    <tr>\n",
       "      <th>4</th>\n",
       "      <td>174326575082582</td>\n",
       "      <td>Male</td>\n",
       "      <td>False</td>\n",
       "      <td>NaN</td>\n",
       "      <td>NaN</td>\n",
       "    </tr>\n",
       "    <tr>\n",
       "      <th>...</th>\n",
       "      <td>...</td>\n",
       "      <td>...</td>\n",
       "      <td>...</td>\n",
       "      <td>...</td>\n",
       "      <td>...</td>\n",
       "    </tr>\n",
       "    <tr>\n",
       "      <th>95</th>\n",
       "      <td>280822845604839</td>\n",
       "      <td>Female</td>\n",
       "      <td>True</td>\n",
       "      <td>NaN</td>\n",
       "      <td>NaN</td>\n",
       "    </tr>\n",
       "    <tr>\n",
       "      <th>96</th>\n",
       "      <td>93233478449510</td>\n",
       "      <td>Male</td>\n",
       "      <td>True</td>\n",
       "      <td>NaN</td>\n",
       "      <td>NaN</td>\n",
       "    </tr>\n",
       "    <tr>\n",
       "      <th>97</th>\n",
       "      <td>18461790421820</td>\n",
       "      <td>Female</td>\n",
       "      <td>False</td>\n",
       "      <td>NaN</td>\n",
       "      <td>NaN</td>\n",
       "    </tr>\n",
       "    <tr>\n",
       "      <th>98</th>\n",
       "      <td>160052837140583</td>\n",
       "      <td>Female</td>\n",
       "      <td>False</td>\n",
       "      <td>NaN</td>\n",
       "      <td>NaN</td>\n",
       "    </tr>\n",
       "    <tr>\n",
       "      <th>99</th>\n",
       "      <td>118354614260476</td>\n",
       "      <td>Female</td>\n",
       "      <td>False</td>\n",
       "      <td>NaN</td>\n",
       "      <td>NaN</td>\n",
       "    </tr>\n",
       "  </tbody>\n",
       "</table>\n",
       "<p>100 rows × 5 columns</p>\n",
       "</div>"
      ],
      "text/plain": [
       "                 id  gender  subscriber name rating\n",
       "0   147862467616183    Male        True  NaN    NaN\n",
       "1    52734239559710    Male       False  NaN    NaN\n",
       "2   207781231427915    Male        True  NaN    NaN\n",
       "3   135604083362392  Female        True  NaN    NaN\n",
       "4   174326575082582    Male       False  NaN    NaN\n",
       "..              ...     ...         ...  ...    ...\n",
       "95  280822845604839  Female        True  NaN    NaN\n",
       "96   93233478449510    Male        True  NaN    NaN\n",
       "97   18461790421820  Female       False  NaN    NaN\n",
       "98  160052837140583  Female       False  NaN    NaN\n",
       "99  118354614260476  Female       False  NaN    NaN\n",
       "\n",
       "[100 rows x 5 columns]"
      ]
     },
     "execution_count": 16,
     "metadata": {},
     "output_type": "execute_result"
    }
   ],
   "source": [
    "choice=[True,False]#boolean list\n",
    "df[\"subscriber\"]=random.choices(choice,weights=(60,40),k=num_users)\n",
    "df"
   ]
  },
  {
   "cell_type": "code",
   "execution_count": 19,
   "id": "c73b8cc8",
   "metadata": {},
   "outputs": [
    {
     "data": {
      "application/vnd.microsoft.datawrangler.viewer.v0+json": {
       "columns": [
        {
         "name": "subscriber",
         "rawType": "bool",
         "type": "boolean"
        },
        {
         "name": "count",
         "rawType": "int64",
         "type": "integer"
        }
       ],
       "ref": "b2a45042-28a2-4f4f-952b-a43c781deea4",
       "rows": [
        [
         "True",
         "53"
        ],
        [
         "False",
         "47"
        ]
       ],
       "shape": {
        "columns": 1,
        "rows": 2
       }
      },
      "text/plain": [
       "subscriber\n",
       "True     53\n",
       "False    47\n",
       "Name: count, dtype: int64"
      ]
     },
     "execution_count": 19,
     "metadata": {},
     "output_type": "execute_result"
    }
   ],
   "source": [
    "df.subscriber.value_counts()#counting the subsribers\n"
   ]
  },
  {
   "cell_type": "markdown",
   "id": "1f1bf699",
   "metadata": {},
   "source": [
    "Generating Names For the Datasets"
   ]
  },
  {
   "cell_type": "code",
   "execution_count": null,
   "id": "4a1b89d1",
   "metadata": {},
   "outputs": [
    {
     "data": {
      "application/vnd.microsoft.datawrangler.viewer.v0+json": {
       "columns": [
        {
         "name": "index",
         "rawType": "int64",
         "type": "integer"
        },
        {
         "name": "id",
         "rawType": "int64",
         "type": "integer"
        },
        {
         "name": "gender",
         "rawType": "object",
         "type": "string"
        },
        {
         "name": "subscriber",
         "rawType": "bool",
         "type": "boolean"
        },
        {
         "name": "name",
         "rawType": "object",
         "type": "string"
        },
        {
         "name": "rating",
         "rawType": "object",
         "type": "unknown"
        }
       ],
       "ref": "bf1bcf73-4ffc-4f02-b797-b5539865d674",
       "rows": [
        [
         "0",
         "147862467616183",
         "Male",
         "True",
         "David Klein",
         null
        ],
        [
         "1",
         "52734239559710",
         "Male",
         "False",
         "Roland Paris",
         null
        ],
        [
         "2",
         "207781231427915",
         "Male",
         "True",
         "André Allain",
         null
        ],
        [
         "3",
         "135604083362392",
         "Female",
         "True",
         "Céline Duval",
         null
        ],
        [
         "4",
         "174326575082582",
         "Male",
         "False",
         "Pierre Maurice",
         null
        ],
        [
         "5",
         "184461668934576",
         "Male",
         "False",
         "Laurent Fontaine",
         null
        ],
        [
         "6",
         "176641500661065",
         "Male",
         "False",
         "Gilles Gilbert",
         null
        ],
        [
         "7",
         "206477242032275",
         "Female",
         "True",
         "Alexandrie Guillet-Bernard",
         null
        ],
        [
         "8",
         "225219227919969",
         "Male",
         "True",
         "Vincent Deschamps",
         null
        ],
        [
         "9",
         "155368438855206",
         "Female",
         "False",
         "Antoinette Foucher",
         null
        ],
        [
         "10",
         "195642765349204",
         "Female",
         "True",
         "Catherine Pineau",
         null
        ],
        [
         "11",
         "87817431198396",
         "Female",
         "True",
         "Adrienne de la Marchand",
         null
        ],
        [
         "12",
         "101295531999915",
         "Female",
         "False",
         "Christelle de la Hubert",
         null
        ],
        [
         "13",
         "220552014979996",
         "Male",
         "True",
         "Alfred Courtois",
         null
        ],
        [
         "14",
         "71721586194411",
         "Male",
         "True",
         "Nicolas Gautier",
         null
        ],
        [
         "15",
         "157505938004821",
         "Female",
         "False",
         "Laurence-Joséphine Lopez",
         null
        ],
        [
         "16",
         "198623666423262",
         "Male",
         "False",
         "Bernard Daniel",
         null
        ],
        [
         "17",
         "35986611132033",
         "Male",
         "False",
         "Alfred Julien",
         null
        ],
        [
         "18",
         "107162390326263",
         "Female",
         "True",
         "Lucy Camus",
         null
        ],
        [
         "19",
         "212360316112912",
         "Male",
         "True",
         "Martin Fernandes",
         null
        ],
        [
         "20",
         "234864031008433",
         "Male",
         "False",
         "Matthieu Le Vincent",
         null
        ],
        [
         "21",
         "32244462711504",
         "Male",
         "True",
         "Victor du Jean",
         null
        ],
        [
         "22",
         "239772848851233",
         "Male",
         "False",
         "Arthur-David Jacques",
         null
        ],
        [
         "23",
         "82247132528835",
         "Female",
         "False",
         "Christiane Couturier-Perez",
         null
        ],
        [
         "24",
         "177319368945948",
         "NA",
         "False",
         "Daniel Alexandre",
         null
        ],
        [
         "25",
         "128351595496846",
         "Male",
         "True",
         "Gilbert-Nicolas Roche",
         null
        ],
        [
         "26",
         "163155364360928",
         "Male",
         "True",
         "Gérard Delorme",
         null
        ],
        [
         "27",
         "214536210989921",
         "Female",
         "True",
         "Odette Techer",
         null
        ],
        [
         "28",
         "4906692670148",
         "Female",
         "True",
         "Noémi du Hoareau",
         null
        ],
        [
         "29",
         "24788858884756",
         "Female",
         "True",
         "Suzanne de la Payet",
         null
        ],
        [
         "30",
         "189056745254275",
         "Male",
         "False",
         "Hugues de Navarro",
         null
        ],
        [
         "31",
         "11080239237105",
         "Male",
         "False",
         "Eugène Joubert",
         null
        ],
        [
         "32",
         "149444873852163",
         "Male",
         "False",
         "Adrien Julien",
         null
        ],
        [
         "33",
         "243683023086134",
         "Female",
         "False",
         "Anastasie Germain du Ribeiro",
         null
        ],
        [
         "34",
         "196912695146063",
         "Male",
         "False",
         "Paul Robin",
         null
        ],
        [
         "35",
         "18020421601245",
         "Female",
         "True",
         "Laure Voisin",
         null
        ],
        [
         "36",
         "1435313284081",
         "Female",
         "False",
         "Mathilde Turpin-Leclercq",
         null
        ],
        [
         "37",
         "75241737365396",
         "Male",
         "True",
         "Richard Jacquet",
         null
        ],
        [
         "38",
         "118498642718351",
         "Male",
         "True",
         "Jacques Guillaume",
         null
        ],
        [
         "39",
         "225931945502511",
         "Female",
         "False",
         "Manon Alexandre",
         null
        ],
        [
         "40",
         "23886626240958",
         "Male",
         "False",
         "Paul de la Roger",
         null
        ],
        [
         "41",
         "106139381699452",
         "Male",
         "False",
         "Victor Raynaud-Sanchez",
         null
        ],
        [
         "42",
         "197080649761714",
         "Female",
         "True",
         "Anaïs-Philippine Lelièvre",
         null
        ],
        [
         "43",
         "244165765960038",
         "Female",
         "False",
         "Christelle Pierre",
         null
        ],
        [
         "44",
         "132262848430212",
         "Female",
         "False",
         "Patricia Toussaint",
         null
        ],
        [
         "45",
         "180300839980065",
         "Male",
         "True",
         "Laurent Hoarau",
         null
        ],
        [
         "46",
         "57300175060222",
         "Female",
         "True",
         "Édith-Océane Colas",
         null
        ],
        [
         "47",
         "229100118915308",
         "Male",
         "True",
         "Zacharie Mallet-Rémy",
         null
        ],
        [
         "48",
         "152863299674016",
         "Male",
         "True",
         "Gabriel Jacquet",
         null
        ],
        [
         "49",
         "83165740644924",
         "Female",
         "True",
         "Christelle Lemonnier",
         null
        ]
       ],
       "shape": {
        "columns": 5,
        "rows": 100
       }
      },
      "text/html": [
       "<div>\n",
       "<style scoped>\n",
       "    .dataframe tbody tr th:only-of-type {\n",
       "        vertical-align: middle;\n",
       "    }\n",
       "\n",
       "    .dataframe tbody tr th {\n",
       "        vertical-align: top;\n",
       "    }\n",
       "\n",
       "    .dataframe thead th {\n",
       "        text-align: right;\n",
       "    }\n",
       "</style>\n",
       "<table border=\"1\" class=\"dataframe\">\n",
       "  <thead>\n",
       "    <tr style=\"text-align: right;\">\n",
       "      <th></th>\n",
       "      <th>id</th>\n",
       "      <th>gender</th>\n",
       "      <th>subscriber</th>\n",
       "      <th>name</th>\n",
       "      <th>rating</th>\n",
       "    </tr>\n",
       "  </thead>\n",
       "  <tbody>\n",
       "    <tr>\n",
       "      <th>0</th>\n",
       "      <td>147862467616183</td>\n",
       "      <td>Male</td>\n",
       "      <td>True</td>\n",
       "      <td>David Klein</td>\n",
       "      <td>NaN</td>\n",
       "    </tr>\n",
       "    <tr>\n",
       "      <th>1</th>\n",
       "      <td>52734239559710</td>\n",
       "      <td>Male</td>\n",
       "      <td>False</td>\n",
       "      <td>Roland Paris</td>\n",
       "      <td>NaN</td>\n",
       "    </tr>\n",
       "    <tr>\n",
       "      <th>2</th>\n",
       "      <td>207781231427915</td>\n",
       "      <td>Male</td>\n",
       "      <td>True</td>\n",
       "      <td>André Allain</td>\n",
       "      <td>NaN</td>\n",
       "    </tr>\n",
       "    <tr>\n",
       "      <th>3</th>\n",
       "      <td>135604083362392</td>\n",
       "      <td>Female</td>\n",
       "      <td>True</td>\n",
       "      <td>Céline Duval</td>\n",
       "      <td>NaN</td>\n",
       "    </tr>\n",
       "    <tr>\n",
       "      <th>4</th>\n",
       "      <td>174326575082582</td>\n",
       "      <td>Male</td>\n",
       "      <td>False</td>\n",
       "      <td>Pierre Maurice</td>\n",
       "      <td>NaN</td>\n",
       "    </tr>\n",
       "    <tr>\n",
       "      <th>...</th>\n",
       "      <td>...</td>\n",
       "      <td>...</td>\n",
       "      <td>...</td>\n",
       "      <td>...</td>\n",
       "      <td>...</td>\n",
       "    </tr>\n",
       "    <tr>\n",
       "      <th>95</th>\n",
       "      <td>280822845604839</td>\n",
       "      <td>Female</td>\n",
       "      <td>True</td>\n",
       "      <td>Céline Lelièvre</td>\n",
       "      <td>NaN</td>\n",
       "    </tr>\n",
       "    <tr>\n",
       "      <th>96</th>\n",
       "      <td>93233478449510</td>\n",
       "      <td>Male</td>\n",
       "      <td>True</td>\n",
       "      <td>Éric de la Pierre</td>\n",
       "      <td>NaN</td>\n",
       "    </tr>\n",
       "    <tr>\n",
       "      <th>97</th>\n",
       "      <td>18461790421820</td>\n",
       "      <td>Female</td>\n",
       "      <td>False</td>\n",
       "      <td>Patricia Meunier</td>\n",
       "      <td>NaN</td>\n",
       "    </tr>\n",
       "    <tr>\n",
       "      <th>98</th>\n",
       "      <td>160052837140583</td>\n",
       "      <td>Female</td>\n",
       "      <td>False</td>\n",
       "      <td>Christine Weber-Valentin</td>\n",
       "      <td>NaN</td>\n",
       "    </tr>\n",
       "    <tr>\n",
       "      <th>99</th>\n",
       "      <td>118354614260476</td>\n",
       "      <td>Female</td>\n",
       "      <td>False</td>\n",
       "      <td>Alex Leroux</td>\n",
       "      <td>NaN</td>\n",
       "    </tr>\n",
       "  </tbody>\n",
       "</table>\n",
       "<p>100 rows × 5 columns</p>\n",
       "</div>"
      ],
      "text/plain": [
       "                 id  gender  subscriber                      name rating\n",
       "0   147862467616183    Male        True               David Klein    NaN\n",
       "1    52734239559710    Male       False              Roland Paris    NaN\n",
       "2   207781231427915    Male        True              André Allain    NaN\n",
       "3   135604083362392  Female        True              Céline Duval    NaN\n",
       "4   174326575082582    Male       False            Pierre Maurice    NaN\n",
       "..              ...     ...         ...                       ...    ...\n",
       "95  280822845604839  Female        True           Céline Lelièvre    NaN\n",
       "96   93233478449510    Male        True         Éric de la Pierre    NaN\n",
       "97   18461790421820  Female       False          Patricia Meunier    NaN\n",
       "98  160052837140583  Female       False  Christine Weber-Valentin    NaN\n",
       "99  118354614260476  Female       False               Alex Leroux    NaN\n",
       "\n",
       "[100 rows x 5 columns]"
      ]
     },
     "execution_count": 29,
     "metadata": {},
     "output_type": "execute_result"
    }
   ],
   "source": [
    "#initalizing the function faker\n",
    "faker=Faker(locale=\"FR_FR\")\n",
    "def name_gen(gender):\n",
    "    if gender==\"Male\":\n",
    "        return faker.name_male()\n",
    "    elif gender==\"Female\":\n",
    "        return faker.name_female()\n",
    "    return faker.name()\n",
    "#generating names using the function taking care of the gender as well\n",
    "\n",
    "df[\"name\"]=[name_gen(i) for i in df[\"gender\"]]\n",
    "df"
   ]
  },
  {
   "cell_type": "markdown",
   "id": "205a327e",
   "metadata": {},
   "source": [
    "Generating the Rating values"
   ]
  },
  {
   "cell_type": "code",
   "execution_count": 32,
   "id": "d7e97f74",
   "metadata": {},
   "outputs": [
    {
     "data": {
      "application/vnd.microsoft.datawrangler.viewer.v0+json": {
       "columns": [
        {
         "name": "index",
         "rawType": "int64",
         "type": "integer"
        },
        {
         "name": "id",
         "rawType": "int64",
         "type": "integer"
        },
        {
         "name": "gender",
         "rawType": "object",
         "type": "string"
        },
        {
         "name": "subscriber",
         "rawType": "bool",
         "type": "boolean"
        },
        {
         "name": "name",
         "rawType": "object",
         "type": "string"
        },
        {
         "name": "rating",
         "rawType": "int64",
         "type": "integer"
        }
       ],
       "ref": "e64d6bc6-ba4f-4df2-b9ec-a8b7a52e7f44",
       "rows": [
        [
         "0",
         "147862467616183",
         "Male",
         "True",
         "David Klein",
         "4"
        ],
        [
         "1",
         "52734239559710",
         "Male",
         "False",
         "Roland Paris",
         "3"
        ],
        [
         "2",
         "207781231427915",
         "Male",
         "True",
         "André Allain",
         "4"
        ],
        [
         "3",
         "135604083362392",
         "Female",
         "True",
         "Céline Duval",
         "3"
        ],
        [
         "4",
         "174326575082582",
         "Male",
         "False",
         "Pierre Maurice",
         "4"
        ],
        [
         "5",
         "184461668934576",
         "Male",
         "False",
         "Laurent Fontaine",
         "4"
        ],
        [
         "6",
         "176641500661065",
         "Male",
         "False",
         "Gilles Gilbert",
         "4"
        ],
        [
         "7",
         "206477242032275",
         "Female",
         "True",
         "Alexandrie Guillet-Bernard",
         "2"
        ],
        [
         "8",
         "225219227919969",
         "Male",
         "True",
         "Vincent Deschamps",
         "5"
        ],
        [
         "9",
         "155368438855206",
         "Female",
         "False",
         "Antoinette Foucher",
         "3"
        ],
        [
         "10",
         "195642765349204",
         "Female",
         "True",
         "Catherine Pineau",
         "2"
        ],
        [
         "11",
         "87817431198396",
         "Female",
         "True",
         "Adrienne de la Marchand",
         "1"
        ],
        [
         "12",
         "101295531999915",
         "Female",
         "False",
         "Christelle de la Hubert",
         "4"
        ],
        [
         "13",
         "220552014979996",
         "Male",
         "True",
         "Alfred Courtois",
         "3"
        ],
        [
         "14",
         "71721586194411",
         "Male",
         "True",
         "Nicolas Gautier",
         "1"
        ],
        [
         "15",
         "157505938004821",
         "Female",
         "False",
         "Laurence-Joséphine Lopez",
         "3"
        ],
        [
         "16",
         "198623666423262",
         "Male",
         "False",
         "Bernard Daniel",
         "1"
        ],
        [
         "17",
         "35986611132033",
         "Male",
         "False",
         "Alfred Julien",
         "4"
        ],
        [
         "18",
         "107162390326263",
         "Female",
         "True",
         "Lucy Camus",
         "2"
        ],
        [
         "19",
         "212360316112912",
         "Male",
         "True",
         "Martin Fernandes",
         "3"
        ],
        [
         "20",
         "234864031008433",
         "Male",
         "False",
         "Matthieu Le Vincent",
         "1"
        ],
        [
         "21",
         "32244462711504",
         "Male",
         "True",
         "Victor du Jean",
         "1"
        ],
        [
         "22",
         "239772848851233",
         "Male",
         "False",
         "Arthur-David Jacques",
         "5"
        ],
        [
         "23",
         "82247132528835",
         "Female",
         "False",
         "Christiane Couturier-Perez",
         "2"
        ],
        [
         "24",
         "177319368945948",
         "NA",
         "False",
         "Daniel Alexandre",
         "5"
        ],
        [
         "25",
         "128351595496846",
         "Male",
         "True",
         "Gilbert-Nicolas Roche",
         "2"
        ],
        [
         "26",
         "163155364360928",
         "Male",
         "True",
         "Gérard Delorme",
         "4"
        ],
        [
         "27",
         "214536210989921",
         "Female",
         "True",
         "Odette Techer",
         "4"
        ],
        [
         "28",
         "4906692670148",
         "Female",
         "True",
         "Noémi du Hoareau",
         "2"
        ],
        [
         "29",
         "24788858884756",
         "Female",
         "True",
         "Suzanne de la Payet",
         "2"
        ],
        [
         "30",
         "189056745254275",
         "Male",
         "False",
         "Hugues de Navarro",
         "3"
        ],
        [
         "31",
         "11080239237105",
         "Male",
         "False",
         "Eugène Joubert",
         "5"
        ],
        [
         "32",
         "149444873852163",
         "Male",
         "False",
         "Adrien Julien",
         "3"
        ],
        [
         "33",
         "243683023086134",
         "Female",
         "False",
         "Anastasie Germain du Ribeiro",
         "1"
        ],
        [
         "34",
         "196912695146063",
         "Male",
         "False",
         "Paul Robin",
         "3"
        ],
        [
         "35",
         "18020421601245",
         "Female",
         "True",
         "Laure Voisin",
         "4"
        ],
        [
         "36",
         "1435313284081",
         "Female",
         "False",
         "Mathilde Turpin-Leclercq",
         "2"
        ],
        [
         "37",
         "75241737365396",
         "Male",
         "True",
         "Richard Jacquet",
         "4"
        ],
        [
         "38",
         "118498642718351",
         "Male",
         "True",
         "Jacques Guillaume",
         "4"
        ],
        [
         "39",
         "225931945502511",
         "Female",
         "False",
         "Manon Alexandre",
         "3"
        ],
        [
         "40",
         "23886626240958",
         "Male",
         "False",
         "Paul de la Roger",
         "2"
        ],
        [
         "41",
         "106139381699452",
         "Male",
         "False",
         "Victor Raynaud-Sanchez",
         "3"
        ],
        [
         "42",
         "197080649761714",
         "Female",
         "True",
         "Anaïs-Philippine Lelièvre",
         "4"
        ],
        [
         "43",
         "244165765960038",
         "Female",
         "False",
         "Christelle Pierre",
         "3"
        ],
        [
         "44",
         "132262848430212",
         "Female",
         "False",
         "Patricia Toussaint",
         "1"
        ],
        [
         "45",
         "180300839980065",
         "Male",
         "True",
         "Laurent Hoarau",
         "5"
        ],
        [
         "46",
         "57300175060222",
         "Female",
         "True",
         "Édith-Océane Colas",
         "1"
        ],
        [
         "47",
         "229100118915308",
         "Male",
         "True",
         "Zacharie Mallet-Rémy",
         "5"
        ],
        [
         "48",
         "152863299674016",
         "Male",
         "True",
         "Gabriel Jacquet",
         "2"
        ],
        [
         "49",
         "83165740644924",
         "Female",
         "True",
         "Christelle Lemonnier",
         "3"
        ]
       ],
       "shape": {
        "columns": 5,
        "rows": 100
       }
      },
      "text/html": [
       "<div>\n",
       "<style scoped>\n",
       "    .dataframe tbody tr th:only-of-type {\n",
       "        vertical-align: middle;\n",
       "    }\n",
       "\n",
       "    .dataframe tbody tr th {\n",
       "        vertical-align: top;\n",
       "    }\n",
       "\n",
       "    .dataframe thead th {\n",
       "        text-align: right;\n",
       "    }\n",
       "</style>\n",
       "<table border=\"1\" class=\"dataframe\">\n",
       "  <thead>\n",
       "    <tr style=\"text-align: right;\">\n",
       "      <th></th>\n",
       "      <th>id</th>\n",
       "      <th>gender</th>\n",
       "      <th>subscriber</th>\n",
       "      <th>name</th>\n",
       "      <th>rating</th>\n",
       "    </tr>\n",
       "  </thead>\n",
       "  <tbody>\n",
       "    <tr>\n",
       "      <th>0</th>\n",
       "      <td>147862467616183</td>\n",
       "      <td>Male</td>\n",
       "      <td>True</td>\n",
       "      <td>David Klein</td>\n",
       "      <td>4</td>\n",
       "    </tr>\n",
       "    <tr>\n",
       "      <th>1</th>\n",
       "      <td>52734239559710</td>\n",
       "      <td>Male</td>\n",
       "      <td>False</td>\n",
       "      <td>Roland Paris</td>\n",
       "      <td>3</td>\n",
       "    </tr>\n",
       "    <tr>\n",
       "      <th>2</th>\n",
       "      <td>207781231427915</td>\n",
       "      <td>Male</td>\n",
       "      <td>True</td>\n",
       "      <td>André Allain</td>\n",
       "      <td>4</td>\n",
       "    </tr>\n",
       "    <tr>\n",
       "      <th>3</th>\n",
       "      <td>135604083362392</td>\n",
       "      <td>Female</td>\n",
       "      <td>True</td>\n",
       "      <td>Céline Duval</td>\n",
       "      <td>3</td>\n",
       "    </tr>\n",
       "    <tr>\n",
       "      <th>4</th>\n",
       "      <td>174326575082582</td>\n",
       "      <td>Male</td>\n",
       "      <td>False</td>\n",
       "      <td>Pierre Maurice</td>\n",
       "      <td>4</td>\n",
       "    </tr>\n",
       "    <tr>\n",
       "      <th>...</th>\n",
       "      <td>...</td>\n",
       "      <td>...</td>\n",
       "      <td>...</td>\n",
       "      <td>...</td>\n",
       "      <td>...</td>\n",
       "    </tr>\n",
       "    <tr>\n",
       "      <th>95</th>\n",
       "      <td>280822845604839</td>\n",
       "      <td>Female</td>\n",
       "      <td>True</td>\n",
       "      <td>Céline Lelièvre</td>\n",
       "      <td>2</td>\n",
       "    </tr>\n",
       "    <tr>\n",
       "      <th>96</th>\n",
       "      <td>93233478449510</td>\n",
       "      <td>Male</td>\n",
       "      <td>True</td>\n",
       "      <td>Éric de la Pierre</td>\n",
       "      <td>4</td>\n",
       "    </tr>\n",
       "    <tr>\n",
       "      <th>97</th>\n",
       "      <td>18461790421820</td>\n",
       "      <td>Female</td>\n",
       "      <td>False</td>\n",
       "      <td>Patricia Meunier</td>\n",
       "      <td>4</td>\n",
       "    </tr>\n",
       "    <tr>\n",
       "      <th>98</th>\n",
       "      <td>160052837140583</td>\n",
       "      <td>Female</td>\n",
       "      <td>False</td>\n",
       "      <td>Christine Weber-Valentin</td>\n",
       "      <td>4</td>\n",
       "    </tr>\n",
       "    <tr>\n",
       "      <th>99</th>\n",
       "      <td>118354614260476</td>\n",
       "      <td>Female</td>\n",
       "      <td>False</td>\n",
       "      <td>Alex Leroux</td>\n",
       "      <td>4</td>\n",
       "    </tr>\n",
       "  </tbody>\n",
       "</table>\n",
       "<p>100 rows × 5 columns</p>\n",
       "</div>"
      ],
      "text/plain": [
       "                 id  gender  subscriber                      name  rating\n",
       "0   147862467616183    Male        True               David Klein       4\n",
       "1    52734239559710    Male       False              Roland Paris       3\n",
       "2   207781231427915    Male        True              André Allain       4\n",
       "3   135604083362392  Female        True              Céline Duval       3\n",
       "4   174326575082582    Male       False            Pierre Maurice       4\n",
       "..              ...     ...         ...                       ...     ...\n",
       "95  280822845604839  Female        True           Céline Lelièvre       2\n",
       "96   93233478449510    Male        True         Éric de la Pierre       4\n",
       "97   18461790421820  Female       False          Patricia Meunier       4\n",
       "98  160052837140583  Female       False  Christine Weber-Valentin       4\n",
       "99  118354614260476  Female       False               Alex Leroux       4\n",
       "\n",
       "[100 rows x 5 columns]"
      ]
     },
     "execution_count": 32,
     "metadata": {},
     "output_type": "execute_result"
    }
   ],
   "source": [
    "ratings=[1,2,3,4,5]\n",
    "df[\"rating\"]=random.choices(ratings,weights=(15,20,30,25,10),k=num_users)\n",
    "df"
   ]
  },
  {
   "cell_type": "code",
   "execution_count": 33,
   "id": "6be96a86",
   "metadata": {},
   "outputs": [
    {
     "data": {
      "application/vnd.microsoft.datawrangler.viewer.v0+json": {
       "columns": [
        {
         "name": "rating",
         "rawType": "int64",
         "type": "integer"
        },
        {
         "name": "count",
         "rawType": "int64",
         "type": "integer"
        }
       ],
       "ref": "86539373-9c73-4e30-bd6b-ff0945fa0e71",
       "rows": [
        [
         "3",
         "32"
        ],
        [
         "4",
         "28"
        ],
        [
         "2",
         "17"
        ],
        [
         "1",
         "12"
        ],
        [
         "5",
         "11"
        ]
       ],
       "shape": {
        "columns": 1,
        "rows": 5
       }
      },
      "text/plain": [
       "rating\n",
       "3    32\n",
       "4    28\n",
       "2    17\n",
       "1    12\n",
       "5    11\n",
       "Name: count, dtype: int64"
      ]
     },
     "execution_count": 33,
     "metadata": {},
     "output_type": "execute_result"
    }
   ],
   "source": [
    "df.rating.value_counts()#counting the ratings\n"
   ]
  },
  {
   "cell_type": "markdown",
   "id": "9b160f39",
   "metadata": {},
   "source": [
    "Converting the dataframer to a csv"
   ]
  },
  {
   "cell_type": "code",
   "execution_count": 34,
   "id": "72a0410f",
   "metadata": {},
   "outputs": [],
   "source": [
    "df.to_csv(\"Dataset1.csv\")"
   ]
  },
  {
   "cell_type": "markdown",
   "id": "2fba1b77",
   "metadata": {},
   "source": [
    "Reading the csv again"
   ]
  },
  {
   "cell_type": "code",
   "execution_count": 35,
   "id": "3382fd09",
   "metadata": {},
   "outputs": [
    {
     "data": {
      "application/vnd.microsoft.datawrangler.viewer.v0+json": {
       "columns": [
        {
         "name": "index",
         "rawType": "int64",
         "type": "integer"
        },
        {
         "name": "id",
         "rawType": "int64",
         "type": "integer"
        },
        {
         "name": "gender",
         "rawType": "object",
         "type": "unknown"
        },
        {
         "name": "subscriber",
         "rawType": "bool",
         "type": "boolean"
        },
        {
         "name": "name",
         "rawType": "object",
         "type": "string"
        },
        {
         "name": "rating",
         "rawType": "int64",
         "type": "integer"
        }
       ],
       "ref": "1086d49e-bd80-4e32-8dd4-567966d002ef",
       "rows": [
        [
         "0",
         "147862467616183",
         "Male",
         "True",
         "David Klein",
         "4"
        ],
        [
         "1",
         "52734239559710",
         "Male",
         "False",
         "Roland Paris",
         "3"
        ],
        [
         "2",
         "207781231427915",
         "Male",
         "True",
         "André Allain",
         "4"
        ],
        [
         "3",
         "135604083362392",
         "Female",
         "True",
         "Céline Duval",
         "3"
        ],
        [
         "4",
         "174326575082582",
         "Male",
         "False",
         "Pierre Maurice",
         "4"
        ],
        [
         "5",
         "184461668934576",
         "Male",
         "False",
         "Laurent Fontaine",
         "4"
        ],
        [
         "6",
         "176641500661065",
         "Male",
         "False",
         "Gilles Gilbert",
         "4"
        ],
        [
         "7",
         "206477242032275",
         "Female",
         "True",
         "Alexandrie Guillet-Bernard",
         "2"
        ],
        [
         "8",
         "225219227919969",
         "Male",
         "True",
         "Vincent Deschamps",
         "5"
        ],
        [
         "9",
         "155368438855206",
         "Female",
         "False",
         "Antoinette Foucher",
         "3"
        ],
        [
         "10",
         "195642765349204",
         "Female",
         "True",
         "Catherine Pineau",
         "2"
        ],
        [
         "11",
         "87817431198396",
         "Female",
         "True",
         "Adrienne de la Marchand",
         "1"
        ],
        [
         "12",
         "101295531999915",
         "Female",
         "False",
         "Christelle de la Hubert",
         "4"
        ],
        [
         "13",
         "220552014979996",
         "Male",
         "True",
         "Alfred Courtois",
         "3"
        ],
        [
         "14",
         "71721586194411",
         "Male",
         "True",
         "Nicolas Gautier",
         "1"
        ],
        [
         "15",
         "157505938004821",
         "Female",
         "False",
         "Laurence-Joséphine Lopez",
         "3"
        ],
        [
         "16",
         "198623666423262",
         "Male",
         "False",
         "Bernard Daniel",
         "1"
        ],
        [
         "17",
         "35986611132033",
         "Male",
         "False",
         "Alfred Julien",
         "4"
        ],
        [
         "18",
         "107162390326263",
         "Female",
         "True",
         "Lucy Camus",
         "2"
        ],
        [
         "19",
         "212360316112912",
         "Male",
         "True",
         "Martin Fernandes",
         "3"
        ],
        [
         "20",
         "234864031008433",
         "Male",
         "False",
         "Matthieu Le Vincent",
         "1"
        ],
        [
         "21",
         "32244462711504",
         "Male",
         "True",
         "Victor du Jean",
         "1"
        ],
        [
         "22",
         "239772848851233",
         "Male",
         "False",
         "Arthur-David Jacques",
         "5"
        ],
        [
         "23",
         "82247132528835",
         "Female",
         "False",
         "Christiane Couturier-Perez",
         "2"
        ],
        [
         "24",
         "177319368945948",
         null,
         "False",
         "Daniel Alexandre",
         "5"
        ],
        [
         "25",
         "128351595496846",
         "Male",
         "True",
         "Gilbert-Nicolas Roche",
         "2"
        ],
        [
         "26",
         "163155364360928",
         "Male",
         "True",
         "Gérard Delorme",
         "4"
        ],
        [
         "27",
         "214536210989921",
         "Female",
         "True",
         "Odette Techer",
         "4"
        ],
        [
         "28",
         "4906692670148",
         "Female",
         "True",
         "Noémi du Hoareau",
         "2"
        ],
        [
         "29",
         "24788858884756",
         "Female",
         "True",
         "Suzanne de la Payet",
         "2"
        ],
        [
         "30",
         "189056745254275",
         "Male",
         "False",
         "Hugues de Navarro",
         "3"
        ],
        [
         "31",
         "11080239237105",
         "Male",
         "False",
         "Eugène Joubert",
         "5"
        ],
        [
         "32",
         "149444873852163",
         "Male",
         "False",
         "Adrien Julien",
         "3"
        ],
        [
         "33",
         "243683023086134",
         "Female",
         "False",
         "Anastasie Germain du Ribeiro",
         "1"
        ],
        [
         "34",
         "196912695146063",
         "Male",
         "False",
         "Paul Robin",
         "3"
        ],
        [
         "35",
         "18020421601245",
         "Female",
         "True",
         "Laure Voisin",
         "4"
        ],
        [
         "36",
         "1435313284081",
         "Female",
         "False",
         "Mathilde Turpin-Leclercq",
         "2"
        ],
        [
         "37",
         "75241737365396",
         "Male",
         "True",
         "Richard Jacquet",
         "4"
        ],
        [
         "38",
         "118498642718351",
         "Male",
         "True",
         "Jacques Guillaume",
         "4"
        ],
        [
         "39",
         "225931945502511",
         "Female",
         "False",
         "Manon Alexandre",
         "3"
        ],
        [
         "40",
         "23886626240958",
         "Male",
         "False",
         "Paul de la Roger",
         "2"
        ],
        [
         "41",
         "106139381699452",
         "Male",
         "False",
         "Victor Raynaud-Sanchez",
         "3"
        ],
        [
         "42",
         "197080649761714",
         "Female",
         "True",
         "Anaïs-Philippine Lelièvre",
         "4"
        ],
        [
         "43",
         "244165765960038",
         "Female",
         "False",
         "Christelle Pierre",
         "3"
        ],
        [
         "44",
         "132262848430212",
         "Female",
         "False",
         "Patricia Toussaint",
         "1"
        ],
        [
         "45",
         "180300839980065",
         "Male",
         "True",
         "Laurent Hoarau",
         "5"
        ],
        [
         "46",
         "57300175060222",
         "Female",
         "True",
         "Édith-Océane Colas",
         "1"
        ],
        [
         "47",
         "229100118915308",
         "Male",
         "True",
         "Zacharie Mallet-Rémy",
         "5"
        ],
        [
         "48",
         "152863299674016",
         "Male",
         "True",
         "Gabriel Jacquet",
         "2"
        ],
        [
         "49",
         "83165740644924",
         "Female",
         "True",
         "Christelle Lemonnier",
         "3"
        ]
       ],
       "shape": {
        "columns": 5,
        "rows": 100
       }
      },
      "text/html": [
       "<div>\n",
       "<style scoped>\n",
       "    .dataframe tbody tr th:only-of-type {\n",
       "        vertical-align: middle;\n",
       "    }\n",
       "\n",
       "    .dataframe tbody tr th {\n",
       "        vertical-align: top;\n",
       "    }\n",
       "\n",
       "    .dataframe thead th {\n",
       "        text-align: right;\n",
       "    }\n",
       "</style>\n",
       "<table border=\"1\" class=\"dataframe\">\n",
       "  <thead>\n",
       "    <tr style=\"text-align: right;\">\n",
       "      <th></th>\n",
       "      <th>id</th>\n",
       "      <th>gender</th>\n",
       "      <th>subscriber</th>\n",
       "      <th>name</th>\n",
       "      <th>rating</th>\n",
       "    </tr>\n",
       "  </thead>\n",
       "  <tbody>\n",
       "    <tr>\n",
       "      <th>0</th>\n",
       "      <td>147862467616183</td>\n",
       "      <td>Male</td>\n",
       "      <td>True</td>\n",
       "      <td>David Klein</td>\n",
       "      <td>4</td>\n",
       "    </tr>\n",
       "    <tr>\n",
       "      <th>1</th>\n",
       "      <td>52734239559710</td>\n",
       "      <td>Male</td>\n",
       "      <td>False</td>\n",
       "      <td>Roland Paris</td>\n",
       "      <td>3</td>\n",
       "    </tr>\n",
       "    <tr>\n",
       "      <th>2</th>\n",
       "      <td>207781231427915</td>\n",
       "      <td>Male</td>\n",
       "      <td>True</td>\n",
       "      <td>André Allain</td>\n",
       "      <td>4</td>\n",
       "    </tr>\n",
       "    <tr>\n",
       "      <th>3</th>\n",
       "      <td>135604083362392</td>\n",
       "      <td>Female</td>\n",
       "      <td>True</td>\n",
       "      <td>Céline Duval</td>\n",
       "      <td>3</td>\n",
       "    </tr>\n",
       "    <tr>\n",
       "      <th>4</th>\n",
       "      <td>174326575082582</td>\n",
       "      <td>Male</td>\n",
       "      <td>False</td>\n",
       "      <td>Pierre Maurice</td>\n",
       "      <td>4</td>\n",
       "    </tr>\n",
       "    <tr>\n",
       "      <th>...</th>\n",
       "      <td>...</td>\n",
       "      <td>...</td>\n",
       "      <td>...</td>\n",
       "      <td>...</td>\n",
       "      <td>...</td>\n",
       "    </tr>\n",
       "    <tr>\n",
       "      <th>95</th>\n",
       "      <td>280822845604839</td>\n",
       "      <td>Female</td>\n",
       "      <td>True</td>\n",
       "      <td>Céline Lelièvre</td>\n",
       "      <td>2</td>\n",
       "    </tr>\n",
       "    <tr>\n",
       "      <th>96</th>\n",
       "      <td>93233478449510</td>\n",
       "      <td>Male</td>\n",
       "      <td>True</td>\n",
       "      <td>Éric de la Pierre</td>\n",
       "      <td>4</td>\n",
       "    </tr>\n",
       "    <tr>\n",
       "      <th>97</th>\n",
       "      <td>18461790421820</td>\n",
       "      <td>Female</td>\n",
       "      <td>False</td>\n",
       "      <td>Patricia Meunier</td>\n",
       "      <td>4</td>\n",
       "    </tr>\n",
       "    <tr>\n",
       "      <th>98</th>\n",
       "      <td>160052837140583</td>\n",
       "      <td>Female</td>\n",
       "      <td>False</td>\n",
       "      <td>Christine Weber-Valentin</td>\n",
       "      <td>4</td>\n",
       "    </tr>\n",
       "    <tr>\n",
       "      <th>99</th>\n",
       "      <td>118354614260476</td>\n",
       "      <td>Female</td>\n",
       "      <td>False</td>\n",
       "      <td>Alex Leroux</td>\n",
       "      <td>4</td>\n",
       "    </tr>\n",
       "  </tbody>\n",
       "</table>\n",
       "<p>100 rows × 5 columns</p>\n",
       "</div>"
      ],
      "text/plain": [
       "                 id  gender  subscriber                      name  rating\n",
       "0   147862467616183    Male        True               David Klein       4\n",
       "1    52734239559710    Male       False              Roland Paris       3\n",
       "2   207781231427915    Male        True              André Allain       4\n",
       "3   135604083362392  Female        True              Céline Duval       3\n",
       "4   174326575082582    Male       False            Pierre Maurice       4\n",
       "..              ...     ...         ...                       ...     ...\n",
       "95  280822845604839  Female        True           Céline Lelièvre       2\n",
       "96   93233478449510    Male        True         Éric de la Pierre       4\n",
       "97   18461790421820  Female       False          Patricia Meunier       4\n",
       "98  160052837140583  Female       False  Christine Weber-Valentin       4\n",
       "99  118354614260476  Female       False               Alex Leroux       4\n",
       "\n",
       "[100 rows x 5 columns]"
      ]
     },
     "execution_count": 35,
     "metadata": {},
     "output_type": "execute_result"
    }
   ],
   "source": [
    "#viewing the saved csv\n",
    "csv_df=pd.read_csv(\"Dataset1.csv\",index_col=0)\n",
    "csv_df"
   ]
  },
  {
   "cell_type": "code",
   "execution_count": null,
   "id": "ba0c6788",
   "metadata": {},
   "outputs": [],
   "source": []
  }
 ],
 "metadata": {
  "kernelspec": {
   "display_name": "Python 3",
   "language": "python",
   "name": "python3"
  },
  "language_info": {
   "codemirror_mode": {
    "name": "ipython",
    "version": 3
   },
   "file_extension": ".py",
   "mimetype": "text/x-python",
   "name": "python",
   "nbconvert_exporter": "python",
   "pygments_lexer": "ipython3",
   "version": "3.13.2"
  }
 },
 "nbformat": 4,
 "nbformat_minor": 5
}
